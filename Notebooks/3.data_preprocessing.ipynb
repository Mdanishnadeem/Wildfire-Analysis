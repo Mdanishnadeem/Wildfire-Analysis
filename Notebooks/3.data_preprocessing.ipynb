{
 "cells": [
  {
   "cell_type": "markdown",
   "id": "8a5618a8",
   "metadata": {},
   "source": [
    "# Data Preprocessing and Exploratory Data Analysis (EDA): \n",
    "This Jupyter Notebook focuses on the initial steps of data preparation, including handling missing values, assessing column correlations, and conducting Exploratory Data Analysis (EDA). The goal is to cleanse and structure the data for subsequent analysis and modeling."
   ]
  },
  {
   "cell_type": "code",
   "execution_count": 1,
   "id": "db6b5f47",
   "metadata": {},
   "outputs": [],
   "source": [
    "import pandas as pd \n",
    "import numpy as np\n",
    "import matplotlib.pyplot as plt\n",
    "import seaborn as sns"
   ]
  },
  {
   "cell_type": "code",
   "execution_count": 2,
   "id": "ac3da0ef",
   "metadata": {},
   "outputs": [],
   "source": [
    "df = pd.read_csv('/Users/apple/Desktop/Wildfire-Analysis/Project/data/output.csv',\n",
    "                 parse_dates = ['Fire_Year'], low_memory = False, lineterminator='\\n')"
   ]
  },
  {
   "cell_type": "code",
   "execution_count": 3,
   "id": "58a170e5",
   "metadata": {},
   "outputs": [
    {
     "data": {
      "text/plain": [
       "(86508, 31)"
      ]
     },
     "execution_count": 3,
     "metadata": {},
     "output_type": "execute_result"
    }
   ],
   "source": [
    "df.shape"
   ]
  },
  {
   "cell_type": "code",
   "execution_count": 4,
   "id": "ab7962ce",
   "metadata": {},
   "outputs": [
    {
     "data": {
      "text/html": [
       "<div>\n",
       "<style scoped>\n",
       "    .dataframe tbody tr th:only-of-type {\n",
       "        vertical-align: middle;\n",
       "    }\n",
       "\n",
       "    .dataframe tbody tr th {\n",
       "        vertical-align: top;\n",
       "    }\n",
       "\n",
       "    .dataframe thead th {\n",
       "        text-align: right;\n",
       "    }\n",
       "</style>\n",
       "<table border=\"1\" class=\"dataframe\">\n",
       "  <thead>\n",
       "    <tr style=\"text-align: right;\">\n",
       "      <th></th>\n",
       "      <th>OBJECTID</th>\n",
       "      <th>USGS_Assigned_ID</th>\n",
       "      <th>Assigned_Fire_Type</th>\n",
       "      <th>Fire_Year</th>\n",
       "      <th>Fire_Polygon_Tier</th>\n",
       "      <th>Fire_Attribute_Tiers</th>\n",
       "      <th>GIS_Acres</th>\n",
       "      <th>GIS_Hectares</th>\n",
       "      <th>Source_Datasets</th>\n",
       "      <th>Listed_Fire_Types</th>\n",
       "      <th>...</th>\n",
       "      <th>Wildfire_Notice</th>\n",
       "      <th>Prescribed_Burn_Notice</th>\n",
       "      <th>Wildfire_and_Rx_Flag</th>\n",
       "      <th>Overlap_Within_1_or_2_Flag</th>\n",
       "      <th>Circleness_Scale</th>\n",
       "      <th>Circle_Flag</th>\n",
       "      <th>Exclude_From_Summary_Rasters</th>\n",
       "      <th>Shape_Length</th>\n",
       "      <th>Shape_Area</th>\n",
       "      <th>Distance\\r</th>\n",
       "    </tr>\n",
       "  </thead>\n",
       "  <tbody>\n",
       "    <tr>\n",
       "      <th>0</th>\n",
       "      <td>14299</td>\n",
       "      <td>14299</td>\n",
       "      <td>Wildfire</td>\n",
       "      <td>1963</td>\n",
       "      <td>1.0</td>\n",
       "      <td>1 (1), 3 (3)</td>\n",
       "      <td>40992.458271</td>\n",
       "      <td>16589.059302</td>\n",
       "      <td>Comb_National_NIFC_Interagency_Fire_Perimeter_...</td>\n",
       "      <td>Wildfire (1), Likely Wildfire (3)</td>\n",
       "      <td>...</td>\n",
       "      <td>Wildfire mapping prior to 1984 was inconsisten...</td>\n",
       "      <td>Prescribed fire data in this dataset represent...</td>\n",
       "      <td>NaN</td>\n",
       "      <td>NaN</td>\n",
       "      <td>0.385355</td>\n",
       "      <td>NaN</td>\n",
       "      <td>No</td>\n",
       "      <td>73550.428118</td>\n",
       "      <td>1.658906e+08</td>\n",
       "      <td>1146.719299601238\\r</td>\n",
       "    </tr>\n",
       "    <tr>\n",
       "      <th>1</th>\n",
       "      <td>14300</td>\n",
       "      <td>14300</td>\n",
       "      <td>Wildfire</td>\n",
       "      <td>1963</td>\n",
       "      <td>1.0</td>\n",
       "      <td>1 (1), 3 (3)</td>\n",
       "      <td>25757.090203</td>\n",
       "      <td>10423.524591</td>\n",
       "      <td>Comb_National_NIFC_Interagency_Fire_Perimeter_...</td>\n",
       "      <td>Wildfire (2), Likely Wildfire (2)</td>\n",
       "      <td>...</td>\n",
       "      <td>Wildfire mapping prior to 1984 was inconsisten...</td>\n",
       "      <td>Prescribed fire data in this dataset represent...</td>\n",
       "      <td>NaN</td>\n",
       "      <td>NaN</td>\n",
       "      <td>0.364815</td>\n",
       "      <td>NaN</td>\n",
       "      <td>No</td>\n",
       "      <td>59920.576710</td>\n",
       "      <td>1.042352e+08</td>\n",
       "      <td>1177.527298214085\\r</td>\n",
       "    </tr>\n",
       "    <tr>\n",
       "      <th>2</th>\n",
       "      <td>14301</td>\n",
       "      <td>14301</td>\n",
       "      <td>Wildfire</td>\n",
       "      <td>1963</td>\n",
       "      <td>1.0</td>\n",
       "      <td>1 (5), 3 (15), 5 (1)</td>\n",
       "      <td>45527.210986</td>\n",
       "      <td>18424.208617</td>\n",
       "      <td>Comb_National_NIFC_Interagency_Fire_Perimeter_...</td>\n",
       "      <td>Wildfire (6), Likely Wildfire (15)</td>\n",
       "      <td>...</td>\n",
       "      <td>Wildfire mapping prior to 1984 was inconsisten...</td>\n",
       "      <td>Prescribed fire data in this dataset represent...</td>\n",
       "      <td>NaN</td>\n",
       "      <td>NaN</td>\n",
       "      <td>0.320927</td>\n",
       "      <td>NaN</td>\n",
       "      <td>No</td>\n",
       "      <td>84936.827810</td>\n",
       "      <td>1.842421e+08</td>\n",
       "      <td>1146.0452078263386\\r</td>\n",
       "    </tr>\n",
       "    <tr>\n",
       "      <th>3</th>\n",
       "      <td>14302</td>\n",
       "      <td>14302</td>\n",
       "      <td>Wildfire</td>\n",
       "      <td>1963</td>\n",
       "      <td>1.0</td>\n",
       "      <td>1 (1), 3 (3), 5 (1)</td>\n",
       "      <td>10395.010334</td>\n",
       "      <td>4206.711433</td>\n",
       "      <td>Comb_National_NIFC_Interagency_Fire_Perimeter_...</td>\n",
       "      <td>Wildfire (2), Likely Wildfire (3)</td>\n",
       "      <td>...</td>\n",
       "      <td>Wildfire mapping prior to 1984 was inconsisten...</td>\n",
       "      <td>Prescribed fire data in this dataset represent...</td>\n",
       "      <td>NaN</td>\n",
       "      <td>NaN</td>\n",
       "      <td>0.428936</td>\n",
       "      <td>NaN</td>\n",
       "      <td>No</td>\n",
       "      <td>35105.903602</td>\n",
       "      <td>4.206711e+07</td>\n",
       "      <td>1069.4361016561966\\r</td>\n",
       "    </tr>\n",
       "    <tr>\n",
       "      <th>4</th>\n",
       "      <td>14303</td>\n",
       "      <td>14303</td>\n",
       "      <td>Wildfire</td>\n",
       "      <td>1963</td>\n",
       "      <td>1.0</td>\n",
       "      <td>1 (1), 3 (3)</td>\n",
       "      <td>9983.605738</td>\n",
       "      <td>4040.221900</td>\n",
       "      <td>Comb_National_NIFC_Interagency_Fire_Perimeter_...</td>\n",
       "      <td>Wildfire (1), Likely Wildfire (3)</td>\n",
       "      <td>...</td>\n",
       "      <td>Wildfire mapping prior to 1984 was inconsisten...</td>\n",
       "      <td>Prescribed fire data in this dataset represent...</td>\n",
       "      <td>NaN</td>\n",
       "      <td>NaN</td>\n",
       "      <td>0.703178</td>\n",
       "      <td>NaN</td>\n",
       "      <td>No</td>\n",
       "      <td>26870.456126</td>\n",
       "      <td>4.040222e+07</td>\n",
       "      <td>1135.3215193023084\\r</td>\n",
       "    </tr>\n",
       "  </tbody>\n",
       "</table>\n",
       "<p>5 rows × 31 columns</p>\n",
       "</div>"
      ],
      "text/plain": [
       "  OBJECTID USGS_Assigned_ID Assigned_Fire_Type Fire_Year  Fire_Polygon_Tier  \\\n",
       "0    14299            14299           Wildfire      1963                1.0   \n",
       "1    14300            14300           Wildfire      1963                1.0   \n",
       "2    14301            14301           Wildfire      1963                1.0   \n",
       "3    14302            14302           Wildfire      1963                1.0   \n",
       "4    14303            14303           Wildfire      1963                1.0   \n",
       "\n",
       "   Fire_Attribute_Tiers     GIS_Acres  GIS_Hectares  \\\n",
       "0          1 (1), 3 (3)  40992.458271  16589.059302   \n",
       "1          1 (1), 3 (3)  25757.090203  10423.524591   \n",
       "2  1 (5), 3 (15), 5 (1)  45527.210986  18424.208617   \n",
       "3   1 (1), 3 (3), 5 (1)  10395.010334   4206.711433   \n",
       "4          1 (1), 3 (3)   9983.605738   4040.221900   \n",
       "\n",
       "                                     Source_Datasets  \\\n",
       "0  Comb_National_NIFC_Interagency_Fire_Perimeter_...   \n",
       "1  Comb_National_NIFC_Interagency_Fire_Perimeter_...   \n",
       "2  Comb_National_NIFC_Interagency_Fire_Perimeter_...   \n",
       "3  Comb_National_NIFC_Interagency_Fire_Perimeter_...   \n",
       "4  Comb_National_NIFC_Interagency_Fire_Perimeter_...   \n",
       "\n",
       "                    Listed_Fire_Types  ...  \\\n",
       "0   Wildfire (1), Likely Wildfire (3)  ...   \n",
       "1   Wildfire (2), Likely Wildfire (2)  ...   \n",
       "2  Wildfire (6), Likely Wildfire (15)  ...   \n",
       "3   Wildfire (2), Likely Wildfire (3)  ...   \n",
       "4   Wildfire (1), Likely Wildfire (3)  ...   \n",
       "\n",
       "                                     Wildfire_Notice  \\\n",
       "0  Wildfire mapping prior to 1984 was inconsisten...   \n",
       "1  Wildfire mapping prior to 1984 was inconsisten...   \n",
       "2  Wildfire mapping prior to 1984 was inconsisten...   \n",
       "3  Wildfire mapping prior to 1984 was inconsisten...   \n",
       "4  Wildfire mapping prior to 1984 was inconsisten...   \n",
       "\n",
       "                              Prescribed_Burn_Notice Wildfire_and_Rx_Flag  \\\n",
       "0  Prescribed fire data in this dataset represent...                  NaN   \n",
       "1  Prescribed fire data in this dataset represent...                  NaN   \n",
       "2  Prescribed fire data in this dataset represent...                  NaN   \n",
       "3  Prescribed fire data in this dataset represent...                  NaN   \n",
       "4  Prescribed fire data in this dataset represent...                  NaN   \n",
       "\n",
       "  Overlap_Within_1_or_2_Flag Circleness_Scale Circle_Flag  \\\n",
       "0                        NaN         0.385355         NaN   \n",
       "1                        NaN         0.364815         NaN   \n",
       "2                        NaN         0.320927         NaN   \n",
       "3                        NaN         0.428936         NaN   \n",
       "4                        NaN         0.703178         NaN   \n",
       "\n",
       "  Exclude_From_Summary_Rasters  Shape_Length    Shape_Area  \\\n",
       "0                           No  73550.428118  1.658906e+08   \n",
       "1                           No  59920.576710  1.042352e+08   \n",
       "2                           No  84936.827810  1.842421e+08   \n",
       "3                           No  35105.903602  4.206711e+07   \n",
       "4                           No  26870.456126  4.040222e+07   \n",
       "\n",
       "             Distance\\r  \n",
       "0   1146.719299601238\\r  \n",
       "1   1177.527298214085\\r  \n",
       "2  1146.0452078263386\\r  \n",
       "3  1069.4361016561966\\r  \n",
       "4  1135.3215193023084\\r  \n",
       "\n",
       "[5 rows x 31 columns]"
      ]
     },
     "execution_count": 4,
     "metadata": {},
     "output_type": "execute_result"
    }
   ],
   "source": [
    "df.head()"
   ]
  },
  {
   "cell_type": "markdown",
   "id": "388404ba",
   "metadata": {},
   "source": [
    "# Checking for percentage missing values in a column"
   ]
  },
  {
   "cell_type": "code",
   "execution_count": 5,
   "id": "1dfe4985",
   "metadata": {},
   "outputs": [
    {
     "name": "stdout",
     "output_type": "stream",
     "text": [
      "                          Column  Missing Percentage\n",
      "0                       OBJECTID            0.000000\n",
      "1               USGS_Assigned_ID            0.010404\n",
      "2             Assigned_Fire_Type            0.005780\n",
      "3                      Fire_Year            0.005780\n",
      "4              Fire_Polygon_Tier            0.011560\n",
      "5           Fire_Attribute_Tiers            0.008092\n",
      "6                      GIS_Acres            0.005780\n",
      "7                   GIS_Hectares            0.011560\n",
      "8                Source_Datasets            0.005780\n",
      "9              Listed_Fire_Types            0.005780\n",
      "10             Listed_Fire_Names            0.005780\n",
      "11             Listed_Fire_Codes            0.005780\n",
      "12               Listed_Fire_IDs           12.343367\n",
      "13         Listed_Fire_IRWIN_IDs           91.678226\n",
      "14             Listed_Fire_Dates            7.983077\n",
      "15            Listed_Fire_Causes           29.785685\n",
      "16       Listed_Fire_Cause_Class            0.011560\n",
      "17      Listed_Rx_Reported_Acres           78.080640\n",
      "18   Listed_Map_Digitize_Methods           15.817034\n",
      "19                  Listed_Notes           68.695381\n",
      "20              Processing_Notes           86.093772\n",
      "21               Wildfire_Notice            0.017339\n",
      "22        Prescribed_Burn_Notice            0.017339\n",
      "23          Wildfire_and_Rx_Flag           98.445230\n",
      "24    Overlap_Within_1_or_2_Flag           85.577056\n",
      "25              Circleness_Scale            0.017339\n",
      "26                   Circle_Flag           91.753364\n",
      "27  Exclude_From_Summary_Rasters            0.017339\n",
      "28                  Shape_Length            0.017339\n",
      "29                    Shape_Area            0.017339\n",
      "30                    Distance\\r            0.000000\n"
     ]
    }
   ],
   "source": [
    "# Calculate the percentage of missing values in each column\n",
    "missing_percentage = (df.isnull().sum() / len(df)) * 100\n",
    "\n",
    "# Create a DataFrame to display the missing percentages\n",
    "missing_percentage_df = pd.DataFrame({'Column': missing_percentage.index, 'Missing Percentage': missing_percentage.values})\n",
    "\n",
    "print(missing_percentage_df)"
   ]
  },
  {
   "cell_type": "markdown",
   "id": "cbe9d965",
   "metadata": {},
   "source": [
    "# Dropping columns with missing values more than 80%"
   ]
  },
  {
   "cell_type": "code",
   "execution_count": 6,
   "id": "a2b83a32",
   "metadata": {},
   "outputs": [],
   "source": [
    "threshold = 80\n",
    "\n",
    "# Get the columns where missing values exceed the threshold\n",
    "columns_to_drop = missing_percentage[missing_percentage > threshold].index\n",
    "\n",
    "# Drop the columns from the DataFrame\n",
    "df = df.drop(columns=columns_to_drop)"
   ]
  },
  {
   "cell_type": "markdown",
   "id": "2313a6c7",
   "metadata": {},
   "source": [
    "OBJECTID and USGS_Assigned_ID look to be the same. I checked below"
   ]
  },
  {
   "cell_type": "code",
   "execution_count": 7,
   "id": "b72db024",
   "metadata": {},
   "outputs": [
    {
     "name": "stdout",
     "output_type": "stream",
     "text": [
      "OBJECTID and USGS_Assigned_ID are not the same.\n"
     ]
    }
   ],
   "source": [
    "# Check if Column1 and Column2 are the same\n",
    "are_columns_equal = (df['OBJECTID'] == df['USGS_Assigned_ID']).all()\n",
    "\n",
    "if are_columns_equal:\n",
    "    print(\"OBJECTID and USGS_Assigned_ID are the same.\")\n",
    "else:\n",
    "    print(\"OBJECTID and USGS_Assigned_ID are not the same.\")\n",
    "\n",
    "##Drop USGS_Assigned_ID\n",
    "df = df.drop(['USGS_Assigned_ID'], axis = 1)"
   ]
  },
  {
   "cell_type": "code",
   "execution_count": 8,
   "id": "cd6cff76",
   "metadata": {},
   "outputs": [
    {
     "data": {
      "text/plain": [
       "array(['Wildfire', 'Unknown - Likely Wildfire', 'Prescribed Fire',\n",
       "       'Likely Wildfire', 'Unknown - Likely Prescribed Fire', nan,\n",
       "       'Wildfire mapping prior to 1984 was inconsistent, infrequent, and done without the aid of more modern fire mapping methods (GPS and satellite imagery). Areas burned prior to 1984 in this dataset represent only a fraction of what actually burned. While areas burned on or after 1984 are much more accurate and complete, errors still can and do occur. This dataset represents the most complete set of digitized polygon fire data available to the public that we, the authors, were able to collect. It is not a complete collection of all wildfires burned during the time period it represents.'],\n",
       "      dtype=object)"
      ]
     },
     "execution_count": 8,
     "metadata": {},
     "output_type": "execute_result"
    }
   ],
   "source": [
    "df['Assigned_Fire_Type'].unique()"
   ]
  },
  {
   "cell_type": "markdown",
   "id": "682e3af4",
   "metadata": {},
   "source": [
    "# Used a heatmap to check columns which have very high correlations and drop them"
   ]
  },
  {
   "cell_type": "code",
   "execution_count": 9,
   "id": "a22e8f97",
   "metadata": {},
   "outputs": [
    {
     "data": {
      "image/png": "[encoded data removed]",
      "text/plain": [
       "<Figure size 800x600 with 2 Axes>"
      ]
     },
     "metadata": {},
     "output_type": "display_data"
    }
   ],
   "source": [
    "# Calculate the correlation matrix\n",
    "correlation_matrix = df.corr()\n",
    "\n",
    "# Create a heatmap\n",
    "plt.figure(figsize=(8, 6))\n",
    "sns.heatmap(correlation_matrix, annot=True, cmap='coolwarm', fmt=\".2f\")\n",
    "plt.title('Correlation Heatmap')\n",
    "plt.show()\n",
    "\n",
    "##Can see that GIS_Acres and GIS_Hectares are highly correlated as just different units of measurements\n",
    "##Can see that Shape_Area is highly correlated with GIS_Acres. Probably the same\n",
    "##Hence drop the columns GIS_Hectares and Shape_Area\n",
    "\n",
    "df = df.drop(['GIS_Hectares', 'Shape_Area'], axis = 1)"
   ]
  },
  {
   "cell_type": "code",
   "execution_count": 10,
   "id": "0a8e7c21",
   "metadata": {},
   "outputs": [
    {
     "data": {
      "image/png": "[encoded data removed]",
      "text/plain": [
       "<Figure size 800x600 with 2 Axes>"
      ]
     },
     "metadata": {},
     "output_type": "display_data"
    }
   ],
   "source": [
    "# Calculate the correlation matrix\n",
    "correlation_matrix = df.corr()\n",
    "\n",
    "# Create a heatmap\n",
    "plt.figure(figsize=(8, 6))\n",
    "sns.heatmap(correlation_matrix, annot=True, cmap='coolwarm', fmt=\".2f\")\n",
    "plt.title('Correlation Heatmap')\n",
    "plt.show()"
   ]
  },
  {
   "cell_type": "code",
   "execution_count": 11,
   "id": "d9d8e575",
   "metadata": {},
   "outputs": [
    {
     "data": {
      "text/plain": [
       "OBJECTID                         object\n",
       "Assigned_Fire_Type               object\n",
       "Fire_Year                        object\n",
       "Fire_Polygon_Tier               float64\n",
       "Fire_Attribute_Tiers             object\n",
       "GIS_Acres                       float64\n",
       "Source_Datasets                  object\n",
       "Listed_Fire_Types                object\n",
       "Listed_Fire_Names                object\n",
       "Listed_Fire_Codes                object\n",
       "Listed_Fire_IDs                  object\n",
       "Listed_Fire_Dates                object\n",
       "Listed_Fire_Causes               object\n",
       "Listed_Fire_Cause_Class          object\n",
       "Listed_Rx_Reported_Acres         object\n",
       "Listed_Map_Digitize_Methods      object\n",
       "Listed_Notes                     object\n",
       "Wildfire_Notice                  object\n",
       "Prescribed_Burn_Notice           object\n",
       "Circleness_Scale                float64\n",
       "Exclude_From_Summary_Rasters     object\n",
       "Shape_Length                    float64\n",
       "Distance\\r                       object\n",
       "dtype: object"
      ]
     },
     "execution_count": 11,
     "metadata": {},
     "output_type": "execute_result"
    }
   ],
   "source": [
    "df.dtypes"
   ]
  },
  {
   "cell_type": "markdown",
   "id": "8c672ba2",
   "metadata": {},
   "source": [
    "# DROP ALL OTHER COLUMNS WHICH DO NOT HAVE ANY RELEVANT INFORMATION FOR THE PURPOSE OF OUR ANALYSIS"
   ]
  },
  {
   "cell_type": "code",
   "execution_count": 12,
   "id": "14673092",
   "metadata": {},
   "outputs": [],
   "source": [
    "df = df.drop(['Fire_Polygon_Tier', 'Fire_Attribute_Tiers', 'Source_Datasets',\n",
    "        'Listed_Fire_Types', 'Listed_Fire_Names', 'Listed_Fire_Codes', 'Listed_Fire_IDs', 'Listed_Fire_Causes', \n",
    "        'Listed_Fire_Cause_Class','Listed_Rx_Reported_Acres', 'Listed_Map_Digitize_Methods', 'Listed_Notes', \n",
    "         'Wildfire_Notice', 'Prescribed_Burn_Notice', 'Exclude_From_Summary_Rasters'], axis = 1)"
   ]
  },
  {
   "cell_type": "markdown",
   "id": "22ff36a3",
   "metadata": {},
   "source": [
    "# DID NOT DROP LISTED_FIRE_DATES AS I THINK I MIGHT USE IT IN FUTURE"
   ]
  },
  {
   "cell_type": "code",
   "execution_count": 13,
   "id": "9a1d8f18",
   "metadata": {},
   "outputs": [
    {
     "data": {
      "text/plain": [
       "Index(['OBJECTID', 'Assigned_Fire_Type', 'Fire_Year', 'GIS_Acres',\n",
       "       'Listed_Fire_Dates', 'Circleness_Scale', 'Shape_Length', 'Distance\\r'],\n",
       "      dtype='object')"
      ]
     },
     "execution_count": 13,
     "metadata": {},
     "output_type": "execute_result"
    }
   ],
   "source": [
    "df.columns"
   ]
  },
  {
   "cell_type": "code",
   "execution_count": 14,
   "id": "d84a3a6a",
   "metadata": {},
   "outputs": [
    {
     "data": {
      "text/html": [
       "<div>\n",
       "<style scoped>\n",
       "    .dataframe tbody tr th:only-of-type {\n",
       "        vertical-align: middle;\n",
       "    }\n",
       "\n",
       "    .dataframe tbody tr th {\n",
       "        vertical-align: top;\n",
       "    }\n",
       "\n",
       "    .dataframe thead th {\n",
       "        text-align: right;\n",
       "    }\n",
       "</style>\n",
       "<table border=\"1\" class=\"dataframe\">\n",
       "  <thead>\n",
       "    <tr style=\"text-align: right;\">\n",
       "      <th></th>\n",
       "      <th>OBJECTID</th>\n",
       "      <th>Assigned_Fire_Type</th>\n",
       "      <th>Fire_Year</th>\n",
       "      <th>GIS_Acres</th>\n",
       "      <th>Listed_Fire_Dates</th>\n",
       "      <th>Circleness_Scale</th>\n",
       "      <th>Shape_Length</th>\n",
       "      <th>Distance\\r</th>\n",
       "    </tr>\n",
       "  </thead>\n",
       "  <tbody>\n",
       "    <tr>\n",
       "      <th>0</th>\n",
       "      <td>14299</td>\n",
       "      <td>Wildfire</td>\n",
       "      <td>1963</td>\n",
       "      <td>40992.458271</td>\n",
       "      <td>Listed Wildfire Discovery Date(s): 1963-08-06 ...</td>\n",
       "      <td>0.385355</td>\n",
       "      <td>73550.428118</td>\n",
       "      <td>1146.719299601238\\r</td>\n",
       "    </tr>\n",
       "    <tr>\n",
       "      <th>1</th>\n",
       "      <td>14300</td>\n",
       "      <td>Wildfire</td>\n",
       "      <td>1963</td>\n",
       "      <td>25757.090203</td>\n",
       "      <td>Listed Wildfire Discovery Date(s): 1963-07-28 ...</td>\n",
       "      <td>0.364815</td>\n",
       "      <td>59920.576710</td>\n",
       "      <td>1177.527298214085\\r</td>\n",
       "    </tr>\n",
       "    <tr>\n",
       "      <th>2</th>\n",
       "      <td>14301</td>\n",
       "      <td>Wildfire</td>\n",
       "      <td>1963</td>\n",
       "      <td>45527.210986</td>\n",
       "      <td>Listed Wildfire Discovery Date(s): 1963-08-06 ...</td>\n",
       "      <td>0.320927</td>\n",
       "      <td>84936.827810</td>\n",
       "      <td>1146.0452078263386\\r</td>\n",
       "    </tr>\n",
       "    <tr>\n",
       "      <th>3</th>\n",
       "      <td>14302</td>\n",
       "      <td>Wildfire</td>\n",
       "      <td>1963</td>\n",
       "      <td>10395.010334</td>\n",
       "      <td>Listed Wildfire Discovery Date(s): 1963-08-06 ...</td>\n",
       "      <td>0.428936</td>\n",
       "      <td>35105.903602</td>\n",
       "      <td>1069.4361016561966\\r</td>\n",
       "    </tr>\n",
       "    <tr>\n",
       "      <th>4</th>\n",
       "      <td>14303</td>\n",
       "      <td>Wildfire</td>\n",
       "      <td>1963</td>\n",
       "      <td>9983.605738</td>\n",
       "      <td>Listed Wildfire Discovery Date(s): 1963-08-06 ...</td>\n",
       "      <td>0.703178</td>\n",
       "      <td>26870.456126</td>\n",
       "      <td>1135.3215193023084\\r</td>\n",
       "    </tr>\n",
       "  </tbody>\n",
       "</table>\n",
       "</div>"
      ],
      "text/plain": [
       "  OBJECTID Assigned_Fire_Type Fire_Year     GIS_Acres  \\\n",
       "0    14299           Wildfire      1963  40992.458271   \n",
       "1    14300           Wildfire      1963  25757.090203   \n",
       "2    14301           Wildfire      1963  45527.210986   \n",
       "3    14302           Wildfire      1963  10395.010334   \n",
       "4    14303           Wildfire      1963   9983.605738   \n",
       "\n",
       "                                   Listed_Fire_Dates  Circleness_Scale  \\\n",
       "0  Listed Wildfire Discovery Date(s): 1963-08-06 ...          0.385355   \n",
       "1  Listed Wildfire Discovery Date(s): 1963-07-28 ...          0.364815   \n",
       "2  Listed Wildfire Discovery Date(s): 1963-08-06 ...          0.320927   \n",
       "3  Listed Wildfire Discovery Date(s): 1963-08-06 ...          0.428936   \n",
       "4  Listed Wildfire Discovery Date(s): 1963-08-06 ...          0.703178   \n",
       "\n",
       "   Shape_Length            Distance\\r  \n",
       "0  73550.428118   1146.719299601238\\r  \n",
       "1  59920.576710   1177.527298214085\\r  \n",
       "2  84936.827810  1146.0452078263386\\r  \n",
       "3  35105.903602  1069.4361016561966\\r  \n",
       "4  26870.456126  1135.3215193023084\\r  "
      ]
     },
     "execution_count": 14,
     "metadata": {},
     "output_type": "execute_result"
    }
   ],
   "source": [
    "df.head()"
   ]
  },
  {
   "cell_type": "code",
   "execution_count": 15,
   "id": "0199d993",
   "metadata": {},
   "outputs": [],
   "source": [
    "df.to_csv('/Users/apple/Desktop/Wildfire-Analysis/Project/data/preprocessed_fire_data.csv')"
   ]
  },
  {
   "cell_type": "code",
   "execution_count": null,
   "id": "23eaa7e2",
   "metadata": {},
   "outputs": [],
   "source": []
  }
 ],
 "metadata": {
  "kernelspec": {
   "display_name": "Python 3 (ipykernel)",
   "language": "python",
   "name": "python3"
  },
  "language_info": {
   "codemirror_mode": {
    "name": "ipython",
    "version": 3
   },
   "file_extension": ".py",
   "mimetype": "text/x-python",
   "name": "python",
   "nbconvert_exporter": "python",
   "pygments_lexer": "ipython3",
   "version": "3.9.13"
  }
 },
 "nbformat": 4,
 "nbformat_minor": 5
}
