{
 "cells": [
  {
   "cell_type": "markdown",
   "metadata": {
    "tags": []
   },
   "source": [
    "# Wildfire Proximity Computation Example\n",
    "This notebook contains example code that illustrate how to perform some basic geodetic computations related to the Wildfire course project. The notebook is structure as a set of examples that illustrate something about the structure of the data or illustrate a way to compute specific values. This notebook is not a tutorial on performing geodetic computations, but illustrates a number of key concepts. This notebook should provide enough information to complete the Wildfire assignment.\n",
    "\n",
    "The complete [Wildfire dataset](https://www.sciencebase.gov/catalog/item/61aa537dd34eb622f699df81) can be retrieved from a US government repository. I have noticed that the repository is sometimes \"down\" and does not respond. It probably makes sense to get the dataset as soon as possible.\n",
    "\n",
    "This notebook has dependencies on [Pyproj](https://pyproj4.github.io/pyproj/stable/index.html) and the [geojson](https://pypi.org/project/geojson/) module. Pyproj and geojson can be installed via pip. \n",
    "\n",
    "### License\n",
    "This code example was developed by Dr. David W. McDonald for use in DATA 512, a course in the UW MS Data Science degree program. This code is provided under the [Creative Commons](https://creativecommons.org) [CC-BY license](https://creativecommons.org/licenses/by/4.0/). Revision 1.0 - August 13, 2023"
   ]
  },
  {
   "cell_type": "markdown",
   "metadata": {},
   "source": [
    "### Preliminaries\n",
    "First we start with some imports and some constant definitions."
   ]
  },
  {
   "cell_type": "code",
   "execution_count": 1,
   "metadata": {
    "tags": []
   },
   "outputs": [],
   "source": [
    "#    Import some standard python modules\n",
    "import json\n",
    "#\n",
    "#    The module pyproj is a standard module that can be installed using pip or your other favorite\n",
    "#    installation tool. This module provides tools to convert between different geodesic coordinate systems\n",
    "#    and for calculating distances between points (coordinates) in a specific geodesic system.\n",
    "#\n",
    "from pyproj import Transformer, Geod\n",
    "\n",
    "import geojson\n",
    "\n",
    "from tqdm import tqdm\n",
    "\n",
    "import pandas as pd"
   ]
  },
  {
   "cell_type": "code",
   "execution_count": 9,
   "metadata": {},
   "outputs": [],
   "source": [
    "#\n",
    "#    CONSTANTS\n",
    "#\n",
    "\n",
    "FILENAME = \"/Users/apple/Desktop/DATA_512/Wildfire-Analysis/GeoJSON Exports/USGS_Wildland_Fire_Combined_Dataset.json\"\n",
    "\n",
    "\n",
    "CITY_LOCATION = {\n",
    "    'West Odessa': {'city': 'West Odessa',\n",
    "                 'latlon': [31.8456, -102.3676] }\n",
    "}\n",
    "\n",
    "#31.845682, -102.367645"
   ]
  },
  {
   "cell_type": "markdown",
   "metadata": {},
   "source": [
    "## Example 1. Load the wildfire data using the geojson module\n",
    "\n",
    "In this example we use the GeoJSON module ([documentation](https://pypi.org/project/geojson/), [GitHub repo](https://github.com/jazzband/geojson)) to load the sample file. This module works mostly the way you would expect. GeoJSON is mostly just JSON, so actually, you don't even really need to use the GeoJSON module. However, that module will do some conversion of Geo type things to something useful. However, this example, and the examples that follow, do not rely on specific Geo features from geojson.\n"
   ]
  },
  {
   "cell_type": "code",
   "execution_count": 10,
   "metadata": {},
   "outputs": [
    {
     "name": "stdout",
     "output_type": "stream",
     "text": [
      "Attempting to open '/Users/apple/Desktop/DATA_512/Project/GeoJSON Exports/USGS_Wildland_Fire_Combined_Dataset.json'\n"
     ]
    }
   ],
   "source": [
    "#\n",
    "#    Open a file, load it with the geojson loader\n",
    "#\n",
    "print(f\"Attempting to open '{FILENAME}'\")\n",
    "with open(FILENAME,\"r\") as f:\n",
    "    gj_data = geojson.load(f)\n"
   ]
  },
  {
   "cell_type": "code",
   "execution_count": 11,
   "metadata": {},
   "outputs": [
    {
     "name": "stdout",
     "output_type": "stream",
     "text": [
      "The loaded JSON dictionary has the following keys:\n",
      "['displayFieldName', 'fieldAliases', 'geometryType', 'spatialReference', 'fields', 'features']\n",
      "\n"
     ]
    }
   ],
   "source": [
    "#    Print the keys from the object\n",
    "#\n",
    "gj_keys = list(gj_data.keys())\n",
    "print(\"The loaded JSON dictionary has the following keys:\")\n",
    "print(gj_keys)\n",
    "print()"
   ]
  },
  {
   "cell_type": "markdown",
   "metadata": {},
   "source": [
    "## Example 3. Distance computations with Pyproj\n",
    "\n",
    "One issue in performing geodetic computation is that any (all) geographic coordinate systems are eventually translated to the surface of the earth - which is not flat. That means every computation of distance between two points is some kind of arc (not actually a straight line). Further the earth is not a true sphere, its a type of ellipsoid. That means the amount of curvature varies depending upon where you are on the surface and the direction - which changes the distance.\n",
    "\n",
    "Lucky for us there are geographers who like to write code and have built systems to simplify the computation of distances over the earth's surface. One of those systems is called [Pyproj](https://pyproj4.github.io/pyproj/stable/index.html). It has functions that will convert coordinate points between (almost) any two of the many different geographic coordinate systems. As well, Pyproj provides ways to compute distances between two points (mostly assuming the points are already in the same coordinate system).\n",
    "\n",
    "This example uses the Geod() object to calculate the distance between a slected starting city and all of the cities defined in our CITY_LOCATIONS dictionary (see CONSTANTS above).\n",
    "\n",
    "The example calls the distances computed 'straight line' distances - because that is what you would have to use to find the distance between two cities using Google. If you didn't use some form of language like that Google would map roads to get you between a source and destination; that would never match our calculation.\n"
   ]
  },
  {
   "cell_type": "markdown",
   "metadata": {},
   "source": [
    "## Example 4. Convert points between geodetic coordinate systems\n",
    "\n",
    "One of the constraints in doing geodetic computations is that most of the time we need to have our points (the coordinates for places) in the same geographic coordinate system. There are tons and tons of coordinate systems. You can find descriptions of many of them at [EPSG.io](https://epsg.io).\n",
    "\n",
    "Looking at the wildfire header information, you can find this in the output of Example 1, we can see fields named \"geometryType\" and \"spatialReference\". This looks like:\n",
    "\n",
    "        \"geometryType\": \"esriGeometryPolygon\",\n",
    "        \"spatialReference\": {\n",
    "            \"wkid\": 102008,\n",
    "            \"latestWkid\": 102008\n",
    "        },\n",
    "\n",
    "This indicates that the geometry of our wildfire data are generic polygons and that they are expressed in a coordinate system with the well-known ID (WKID) 102008. This coordinate system is also known as [ESRI:102008](https://epsg.io/102008)\n",
    "\n",
    "If you look back at Example 2, you might have wondered about the line of code that says:\n",
    "\n",
    "    geocalc = Geod(ellps='WGS84')         # Use WGS84 ellipsoid representation of the earth\n",
    "\n",
    "That string, 'WGS84', is a representation of the earth, that also relies on a well known coordinate system that is sometimes called 'decimal degrees' (DD). That decimal degrees system has an official name (or WKID) of [EPSG:4326](https://epsg.io/4326).\n",
    "\n",
    "For the example below, what we're going to do is take the geometry of a fire feature, extract the largest ring (i.e., the largest boundary of the fire) and convert all of the points in that ring from the ESRI:102008 coordinate system to EPSG:4326 coordinates.\n"
   ]
  },
  {
   "cell_type": "code",
   "execution_count": 12,
   "metadata": {},
   "outputs": [],
   "source": [
    "#\n",
    "#    Transform feature geometry data\n",
    "#\n",
    "#    The function takes one parameter, a list of ESRI:102008 coordinates that will be transformed to EPSG:4326\n",
    "#    The function returns a list of coordinates in EPSG:4326\n",
    "def convert_ring_to_epsg4326(ring_data=None):\n",
    "    converted_ring = list()\n",
    "    #\n",
    "    # We use a pyproj transformer that converts from ESRI:102008 to EPSG:4326 to transform the list of coordinates\n",
    "    to_epsg4326 = Transformer.from_crs(\"ESRI:102008\",\"EPSG:4326\")\n",
    "    # We'll run through the list transforming each ESRI:102008 x,y coordinate into a decimal degree lat,lon\n",
    "    for coord in ring_data:\n",
    "        lat,lon = to_epsg4326.transform(coord[0],coord[1])\n",
    "        new_coord = lat,lon\n",
    "        converted_ring.append(new_coord)\n",
    "    return converted_ring"
   ]
  },
  {
   "cell_type": "markdown",
   "metadata": {},
   "source": [
    "## Example 5. Compute distance between a place and a wildfire\n",
    "\n",
    "The basic problem is knowing how far away a fire is from some location (like a city). One issue is that fires are irregularly shaped so the actual answer to that is a bit dependent upon the exact shape and how you want to think about the notion of 'distance'. For example, should we just find the closest point on the perimiter of a fire and call that the distance? Maybe we should find the centroid of the region, identify that as a geolocation (coordinate) and then calculate the distance to that? We can come up with numerous other ways.\n",
    "\n",
    "The first bit of code finds the point on the perimiter with the shortest distance to the city (place) and returns the distance as well as the lat,lon of the perimeter point.\n",
    "\n",
    "The second bit of code calculates the average distance of all perimeter points to the city (place) and returns that average as the distance. This is not quite what the centroid would be, but it is probably fairly close.\n",
    "\n",
    "These are two reasonable ways to think about possible distance to a fire. But both require computing distance to a whole set of points on the perimeter of a fire.\n"
   ]
  },
  {
   "cell_type": "code",
   "execution_count": 13,
   "metadata": {},
   "outputs": [],
   "source": [
    "#    \n",
    "#    The function takes two parameters\n",
    "#        A place - which is coordinate point (list or tuple with two items, (lat,lon) in decimal degrees EPSG:4326\n",
    "#        Ring_data - a list of decimal degree coordinates for the fire boundary\n",
    "#\n",
    "#    The function returns a list containing the shortest distance to the perimeter and the point where that is\n",
    "#\n",
    "def shortest_distance_from_place_to_fire_perimeter(place=None,ring_data=None):\n",
    "    # convert the ring data to the right coordinate system\n",
    "    ring = convert_ring_to_epsg4326(ring_data)    \n",
    "    # create a epsg4326 compliant object - which is what the WGS84 ellipsoid is\n",
    "    geodcalc = Geod(ellps='WGS84')\n",
    "    closest_point = list()\n",
    "    # run through each point in the converted ring data\n",
    "    for point in ring:\n",
    "        # calculate the distance\n",
    "        d = geodcalc.inv(place[1],place[0],point[1],point[0])\n",
    "        # convert the distance to miles\n",
    "        distance_in_miles = d[2]*0.00062137\n",
    "        # if it's closer to the city than the point we have, save it\n",
    "        if not closest_point:\n",
    "            closest_point.append(distance_in_miles)\n",
    "            closest_point.append(point)\n",
    "        elif closest_point and closest_point[0]>distance_in_miles:\n",
    "            closest_point = list()\n",
    "            closest_point.append(distance_in_miles)\n",
    "            closest_point.append(point)\n",
    "    return closest_point\n"
   ]
  },
  {
   "cell_type": "code",
   "execution_count": 14,
   "metadata": {},
   "outputs": [
    {
     "name": "stderr",
     "output_type": "stream",
     "text": [
      " 81%|████████████████████████████▍      | 109613/135061 [44:06<10:52, 38.98it/s]"
     ]
    },
    {
     "name": "stdout",
     "output_type": "stream",
     "text": [
      "An error occurred : 'rings'\n"
     ]
    },
    {
     "name": "stderr",
     "output_type": "stream",
     "text": [
      " 82%|████████████████████████████▌      | 110230/135061 [44:23<10:40, 38.78it/s]"
     ]
    },
    {
     "name": "stdout",
     "output_type": "stream",
     "text": [
      "An error occurred : 'rings'\n"
     ]
    },
    {
     "name": "stderr",
     "output_type": "stream",
     "text": [
      " 82%|████████████████████████████▋      | 110647/135061 [44:34<10:22, 39.24it/s]"
     ]
    },
    {
     "name": "stdout",
     "output_type": "stream",
     "text": [
      "An error occurred : 'rings'\n"
     ]
    },
    {
     "name": "stderr",
     "output_type": "stream",
     "text": [
      " 83%|████████████████████████████▉      | 111437/135061 [44:55<09:51, 39.93it/s]"
     ]
    },
    {
     "name": "stdout",
     "output_type": "stream",
     "text": [
      "An error occurred : 'rings'\n"
     ]
    },
    {
     "name": "stderr",
     "output_type": "stream",
     "text": [
      " 83%|████████████████████████████▉      | 111783/135061 [45:04<10:10, 38.13it/s]"
     ]
    },
    {
     "name": "stdout",
     "output_type": "stream",
     "text": [
      "An error occurred : 'rings'\n"
     ]
    },
    {
     "name": "stderr",
     "output_type": "stream",
     "text": [
      " 83%|████████████████████████████▉      | 111904/135061 [45:07<10:15, 37.62it/s]"
     ]
    },
    {
     "name": "stdout",
     "output_type": "stream",
     "text": [
      "An error occurred : 'rings'\n"
     ]
    },
    {
     "name": "stderr",
     "output_type": "stream",
     "text": [
      " 83%|█████████████████████████████▏     | 112418/135061 [45:21<08:41, 43.38it/s]"
     ]
    },
    {
     "name": "stdout",
     "output_type": "stream",
     "text": [
      "An error occurred : 'rings'\n",
      "An error occurred : 'rings'\n"
     ]
    },
    {
     "name": "stderr",
     "output_type": "stream",
     "text": [
      " 84%|█████████████████████████████▍     | 113418/135061 [45:48<09:24, 38.31it/s]"
     ]
    },
    {
     "name": "stdout",
     "output_type": "stream",
     "text": [
      "An error occurred : 'rings'\n"
     ]
    },
    {
     "name": "stderr",
     "output_type": "stream",
     "text": [
      " 84%|█████████████████████████████▍     | 113671/135061 [45:55<09:05, 39.19it/s]"
     ]
    },
    {
     "name": "stdout",
     "output_type": "stream",
     "text": [
      "An error occurred : 'rings'\n"
     ]
    },
    {
     "name": "stderr",
     "output_type": "stream",
     "text": [
      " 84%|█████████████████████████████▍     | 113746/135061 [45:57<08:49, 40.25it/s]"
     ]
    },
    {
     "name": "stdout",
     "output_type": "stream",
     "text": [
      "An error occurred : 'rings'\n"
     ]
    },
    {
     "name": "stderr",
     "output_type": "stream",
     "text": [
      " 84%|█████████████████████████████▍     | 113773/135061 [45:57<08:47, 40.33it/s]"
     ]
    },
    {
     "name": "stdout",
     "output_type": "stream",
     "text": [
      "An error occurred : 'rings'\n"
     ]
    },
    {
     "name": "stderr",
     "output_type": "stream",
     "text": [
      " 84%|█████████████████████████████▍     | 113812/135061 [45:58<08:59, 39.40it/s]"
     ]
    },
    {
     "name": "stdout",
     "output_type": "stream",
     "text": [
      "An error occurred : 'rings'\n"
     ]
    },
    {
     "name": "stderr",
     "output_type": "stream",
     "text": [
      " 85%|█████████████████████████████▌     | 114316/135061 [46:12<09:34, 36.12it/s]"
     ]
    },
    {
     "name": "stdout",
     "output_type": "stream",
     "text": [
      "An error occurred : 'rings'\n"
     ]
    },
    {
     "name": "stderr",
     "output_type": "stream",
     "text": [
      " 85%|█████████████████████████████▋     | 114324/135061 [46:13<10:45, 32.14it/s]"
     ]
    },
    {
     "name": "stdout",
     "output_type": "stream",
     "text": [
      "An error occurred : 'rings'\n"
     ]
    },
    {
     "name": "stderr",
     "output_type": "stream",
     "text": [
      " 86%|█████████████████████████████▉     | 115633/135061 [46:55<08:56, 36.22it/s]"
     ]
    },
    {
     "name": "stdout",
     "output_type": "stream",
     "text": [
      "An error occurred : 'rings'\n"
     ]
    },
    {
     "name": "stderr",
     "output_type": "stream",
     "text": [
      " 86%|██████████████████████████████     | 115978/135061 [47:05<08:29, 37.49it/s]"
     ]
    },
    {
     "name": "stdout",
     "output_type": "stream",
     "text": [
      "An error occurred : 'rings'\n"
     ]
    },
    {
     "name": "stderr",
     "output_type": "stream",
     "text": [
      " 86%|██████████████████████████████     | 116239/135061 [47:13<07:31, 41.72it/s]"
     ]
    },
    {
     "name": "stdout",
     "output_type": "stream",
     "text": [
      "An error occurred : 'rings'\n"
     ]
    },
    {
     "name": "stderr",
     "output_type": "stream",
     "text": [
      " 87%|██████████████████████████████▎    | 117094/135061 [47:36<08:12, 36.50it/s]"
     ]
    },
    {
     "name": "stdout",
     "output_type": "stream",
     "text": [
      "An error occurred : 'rings'\n"
     ]
    },
    {
     "name": "stderr",
     "output_type": "stream",
     "text": [
      " 89%|██████████████████████████████▉    | 119586/135061 [48:46<06:46, 38.11it/s]"
     ]
    },
    {
     "name": "stdout",
     "output_type": "stream",
     "text": [
      "An error occurred : 'rings'\n"
     ]
    },
    {
     "name": "stderr",
     "output_type": "stream",
     "text": [
      " 89%|██████████████████████████████▉    | 119623/135061 [48:47<06:41, 38.47it/s]"
     ]
    },
    {
     "name": "stdout",
     "output_type": "stream",
     "text": [
      "An error occurred : 'rings'\n"
     ]
    },
    {
     "name": "stderr",
     "output_type": "stream",
     "text": [
      " 89%|███████████████████████████████    | 119753/135061 [48:51<07:04, 36.06it/s]"
     ]
    },
    {
     "name": "stdout",
     "output_type": "stream",
     "text": [
      "An error occurred : 'rings'\n"
     ]
    },
    {
     "name": "stderr",
     "output_type": "stream",
     "text": [
      " 89%|███████████████████████████████    | 119988/135061 [48:58<06:21, 39.51it/s]"
     ]
    },
    {
     "name": "stdout",
     "output_type": "stream",
     "text": [
      "An error occurred : 'rings'\n"
     ]
    },
    {
     "name": "stderr",
     "output_type": "stream",
     "text": [
      " 89%|███████████████████████████████▏   | 120216/135061 [49:04<05:51, 42.18it/s]"
     ]
    },
    {
     "name": "stdout",
     "output_type": "stream",
     "text": [
      "An error occurred : 'rings'\n"
     ]
    },
    {
     "name": "stderr",
     "output_type": "stream",
     "text": [
      " 89%|███████████████████████████████▏   | 120437/135061 [49:10<06:40, 36.50it/s]"
     ]
    },
    {
     "name": "stdout",
     "output_type": "stream",
     "text": [
      "An error occurred : 'rings'\n"
     ]
    },
    {
     "name": "stderr",
     "output_type": "stream",
     "text": [
      " 89%|███████████████████████████████▎   | 120685/135061 [49:17<06:13, 38.53it/s]"
     ]
    },
    {
     "name": "stdout",
     "output_type": "stream",
     "text": [
      "An error occurred : 'rings'\n"
     ]
    },
    {
     "name": "stderr",
     "output_type": "stream",
     "text": [
      " 89%|███████████████████████████████▎   | 120749/135061 [49:19<06:04, 39.26it/s]"
     ]
    },
    {
     "name": "stdout",
     "output_type": "stream",
     "text": [
      "An error occurred : 'rings'\n"
     ]
    },
    {
     "name": "stderr",
     "output_type": "stream",
     "text": [
      " 90%|███████████████████████████████▎   | 121017/135061 [49:27<06:22, 36.73it/s]"
     ]
    },
    {
     "name": "stdout",
     "output_type": "stream",
     "text": [
      "An error occurred : 'rings'\n"
     ]
    },
    {
     "name": "stderr",
     "output_type": "stream",
     "text": [
      " 91%|███████████████████████████████▋   | 122270/135061 [50:01<05:58, 35.71it/s]"
     ]
    },
    {
     "name": "stdout",
     "output_type": "stream",
     "text": [
      "An error occurred : 'rings'\n"
     ]
    },
    {
     "name": "stderr",
     "output_type": "stream",
     "text": [
      " 91%|███████████████████████████████▊   | 122535/135061 [50:08<05:02, 41.34it/s]"
     ]
    },
    {
     "name": "stdout",
     "output_type": "stream",
     "text": [
      "An error occurred : 'rings'\n"
     ]
    },
    {
     "name": "stderr",
     "output_type": "stream",
     "text": [
      " 92%|████████████████████████████████   | 123768/135061 [50:41<04:39, 40.47it/s]"
     ]
    },
    {
     "name": "stdout",
     "output_type": "stream",
     "text": [
      "An error occurred : 'rings'\n"
     ]
    },
    {
     "name": "stderr",
     "output_type": "stream",
     "text": [
      " 92%|████████████████████████████████▎  | 124541/135061 [51:01<04:16, 41.08it/s]"
     ]
    },
    {
     "name": "stdout",
     "output_type": "stream",
     "text": [
      "An error occurred : 'rings'\n"
     ]
    },
    {
     "name": "stderr",
     "output_type": "stream",
     "text": [
      " 93%|████████████████████████████████▍  | 125051/135061 [51:16<04:18, 38.77it/s]"
     ]
    },
    {
     "name": "stdout",
     "output_type": "stream",
     "text": [
      "An error occurred : 'rings'\n"
     ]
    },
    {
     "name": "stderr",
     "output_type": "stream",
     "text": [
      " 93%|████████████████████████████████▌  | 125749/135061 [51:38<04:06, 37.71it/s]"
     ]
    },
    {
     "name": "stdout",
     "output_type": "stream",
     "text": [
      "An error occurred : 'rings'\n"
     ]
    },
    {
     "name": "stderr",
     "output_type": "stream",
     "text": [
      " 94%|█████████████████████████████████  | 127499/135061 [52:25<03:08, 40.21it/s]"
     ]
    },
    {
     "name": "stdout",
     "output_type": "stream",
     "text": [
      "An error occurred : 'rings'\n"
     ]
    },
    {
     "name": "stderr",
     "output_type": "stream",
     "text": [
      "100%|███████████████████████████████████| 135061/135061 [55:45<00:00, 40.37it/s]\n"
     ]
    }
   ],
   "source": [
    "#    Get a city from our CITY_LOCATIONS constant as our starting position\n",
    "place = CITY_LOCATION[\"West Odessa\"]\n",
    "attributes_list = []\n",
    "\n",
    "for feature in tqdm(gj_data['features']):\n",
    "    try:\n",
    "        wf_year = feature['attributes']['Fire_Year']\n",
    "        if 1963 <= wf_year <= 2023:\n",
    "            ring_data = feature['geometry']['rings'][0]\n",
    "        \n",
    "        #   Compute using the shortest distance to any point on the perimeter\n",
    "            distance = shortest_distance_from_place_to_fire_perimeter(place['latlon'],ring_data)\n",
    "\n",
    "            if distance[0] <= 1250.00:\n",
    "                feature_attributes = feature['attributes']\n",
    "                feature_attributes['Distance'] = distance[0]\n",
    "                attributes_list.append(feature_attributes)\n",
    "    except Exception as e:\n",
    "        print(f\"An error occurred : {e}\")\n",
    "\n",
    "\n",
    "# Create a DataFrame from the list of feature dictionaries\n",
    "df = pd.DataFrame(attributes_list)\n"
   ]
  },
  {
   "cell_type": "code",
   "execution_count": 1,
   "metadata": {},
   "outputs": [
    {
     "ename": "NameError",
     "evalue": "name 'df' is not defined",
     "output_type": "error",
     "traceback": [
      "\u001b[0;31m---------------------------------------------------------------------------\u001b[0m",
      "\u001b[0;31mNameError\u001b[0m                                 Traceback (most recent call last)",
      "\u001b[0;32m/var/folders/wk/40y5g1gd3y73hktn1mf1hbwc0000gn/T/ipykernel_23254/4137600397.py\u001b[0m in \u001b[0;36m<module>\u001b[0;34m\u001b[0m\n\u001b[0;32m----> 1\u001b[0;31m \u001b[0mdf\u001b[0m\u001b[0;34m.\u001b[0m\u001b[0mto_csv\u001b[0m\u001b[0;34m(\u001b[0m\u001b[0;34m'/Users/apple/Desktop/DATA_512/Wildfire-Analysis/data/output.csv'\u001b[0m\u001b[0;34m,\u001b[0m \u001b[0mindex\u001b[0m\u001b[0;34m=\u001b[0m\u001b[0;32mFalse\u001b[0m\u001b[0;34m)\u001b[0m\u001b[0;34m\u001b[0m\u001b[0;34m\u001b[0m\u001b[0m\n\u001b[0m",
      "\u001b[0;31mNameError\u001b[0m: name 'df' is not defined"
     ]
    }
   ],
   "source": [
    "df.to_csv('/Users/apple/Desktop/DATA_512/Wildfire-Analysis/data/output.csv', index=False)"
   ]
  },
  {
   "cell_type": "code",
   "execution_count": 16,
   "metadata": {},
   "outputs": [
    {
     "name": "stdout",
     "output_type": "stream",
     "text": [
      "            OBJECTID  USGS_Assigned_ID     Fire_Year  Fire_Polygon_Tier  \\\n",
      "count   86498.000000      86498.000000  86498.000000       86498.000000   \n",
      "mean    71318.572638      71318.572638   2003.427085           2.836031   \n",
      "std     33419.518236      33419.518236     13.878304           2.481916   \n",
      "min     14299.000000      14299.000000   1963.000000           1.000000   \n",
      "25%     42605.250000      42605.250000   1995.000000           1.000000   \n",
      "50%     70555.500000      70555.500000   2007.000000           1.000000   \n",
      "75%    100553.750000     100553.750000   2014.000000           6.000000   \n",
      "max    135060.000000     135060.000000   2020.000000           8.000000   \n",
      "\n",
      "          GIS_Acres  GIS_Hectares  Circleness_Scale  Circle_Flag  \\\n",
      "count  8.649800e+04  8.649800e+04      86498.000000       7134.0   \n",
      "mean   1.842753e+03  7.457358e+02          0.476719          1.0   \n",
      "std    1.340902e+04  5.426438e+03          0.262023          0.0   \n",
      "min    6.558795e-07  2.654250e-07          0.000051          1.0   \n",
      "25%    1.355136e+01  5.484042e+00          0.268026          1.0   \n",
      "50%    1.083300e+02  4.383959e+01          0.441870          1.0   \n",
      "75%    8.535876e+02  3.454347e+02          0.652633          1.0   \n",
      "max    1.566273e+06  6.338483e+05          0.999917          1.0   \n",
      "\n",
      "       Shape_Length    Shape_Area      Distance  \n",
      "count  8.649800e+04  8.649800e+04  86498.000000  \n",
      "mean   1.151614e+04  7.457358e+06    875.960777  \n",
      "std    6.987471e+04  5.426438e+07    277.134197  \n",
      "min    6.295036e-01  2.654250e-03      3.006135  \n",
      "25%    1.166219e+03  5.484042e+04    666.219785  \n",
      "50%    3.756626e+03  4.383959e+05    955.377762  \n",
      "75%    1.152563e+04  3.454347e+06   1095.347510  \n",
      "max    1.757948e+07  6.338483e+09   1249.995925  \n"
     ]
    }
   ],
   "source": [
    "print(df.describe())"
   ]
  },
  {
   "cell_type": "code",
   "execution_count": 17,
   "metadata": {},
   "outputs": [
    {
     "data": {
      "text/html": [
       "<div>\n",
       "<style scoped>\n",
       "    .dataframe tbody tr th:only-of-type {\n",
       "        vertical-align: middle;\n",
       "    }\n",
       "\n",
       "    .dataframe tbody tr th {\n",
       "        vertical-align: top;\n",
       "    }\n",
       "\n",
       "    .dataframe thead th {\n",
       "        text-align: right;\n",
       "    }\n",
       "</style>\n",
       "<table border=\"1\" class=\"dataframe\">\n",
       "  <thead>\n",
       "    <tr style=\"text-align: right;\">\n",
       "      <th></th>\n",
       "      <th>OBJECTID</th>\n",
       "      <th>USGS_Assigned_ID</th>\n",
       "      <th>Assigned_Fire_Type</th>\n",
       "      <th>Fire_Year</th>\n",
       "      <th>Fire_Polygon_Tier</th>\n",
       "      <th>Fire_Attribute_Tiers</th>\n",
       "      <th>GIS_Acres</th>\n",
       "      <th>GIS_Hectares</th>\n",
       "      <th>Source_Datasets</th>\n",
       "      <th>Listed_Fire_Types</th>\n",
       "      <th>...</th>\n",
       "      <th>Wildfire_Notice</th>\n",
       "      <th>Prescribed_Burn_Notice</th>\n",
       "      <th>Wildfire_and_Rx_Flag</th>\n",
       "      <th>Overlap_Within_1_or_2_Flag</th>\n",
       "      <th>Circleness_Scale</th>\n",
       "      <th>Circle_Flag</th>\n",
       "      <th>Exclude_From_Summary_Rasters</th>\n",
       "      <th>Shape_Length</th>\n",
       "      <th>Shape_Area</th>\n",
       "      <th>Distance</th>\n",
       "    </tr>\n",
       "  </thead>\n",
       "  <tbody>\n",
       "    <tr>\n",
       "      <th>0</th>\n",
       "      <td>14299</td>\n",
       "      <td>14299</td>\n",
       "      <td>Wildfire</td>\n",
       "      <td>1963</td>\n",
       "      <td>1</td>\n",
       "      <td>1 (1), 3 (3)</td>\n",
       "      <td>40992.458271</td>\n",
       "      <td>16589.059302</td>\n",
       "      <td>Comb_National_NIFC_Interagency_Fire_Perimeter_...</td>\n",
       "      <td>Wildfire (1), Likely Wildfire (3)</td>\n",
       "      <td>...</td>\n",
       "      <td>Wildfire mapping prior to 1984 was inconsisten...</td>\n",
       "      <td>Prescribed fire data in this dataset represent...</td>\n",
       "      <td>None</td>\n",
       "      <td>None</td>\n",
       "      <td>0.385355</td>\n",
       "      <td>NaN</td>\n",
       "      <td>No</td>\n",
       "      <td>73550.428118</td>\n",
       "      <td>1.658906e+08</td>\n",
       "      <td>1146.719300</td>\n",
       "    </tr>\n",
       "    <tr>\n",
       "      <th>1</th>\n",
       "      <td>14300</td>\n",
       "      <td>14300</td>\n",
       "      <td>Wildfire</td>\n",
       "      <td>1963</td>\n",
       "      <td>1</td>\n",
       "      <td>1 (1), 3 (3)</td>\n",
       "      <td>25757.090203</td>\n",
       "      <td>10423.524591</td>\n",
       "      <td>Comb_National_NIFC_Interagency_Fire_Perimeter_...</td>\n",
       "      <td>Wildfire (2), Likely Wildfire (2)</td>\n",
       "      <td>...</td>\n",
       "      <td>Wildfire mapping prior to 1984 was inconsisten...</td>\n",
       "      <td>Prescribed fire data in this dataset represent...</td>\n",
       "      <td>None</td>\n",
       "      <td>None</td>\n",
       "      <td>0.364815</td>\n",
       "      <td>NaN</td>\n",
       "      <td>No</td>\n",
       "      <td>59920.576713</td>\n",
       "      <td>1.042352e+08</td>\n",
       "      <td>1177.527298</td>\n",
       "    </tr>\n",
       "    <tr>\n",
       "      <th>2</th>\n",
       "      <td>14301</td>\n",
       "      <td>14301</td>\n",
       "      <td>Wildfire</td>\n",
       "      <td>1963</td>\n",
       "      <td>1</td>\n",
       "      <td>1 (5), 3 (15), 5 (1)</td>\n",
       "      <td>45527.210986</td>\n",
       "      <td>18424.208617</td>\n",
       "      <td>Comb_National_NIFC_Interagency_Fire_Perimeter_...</td>\n",
       "      <td>Wildfire (6), Likely Wildfire (15)</td>\n",
       "      <td>...</td>\n",
       "      <td>Wildfire mapping prior to 1984 was inconsisten...</td>\n",
       "      <td>Prescribed fire data in this dataset represent...</td>\n",
       "      <td>None</td>\n",
       "      <td>None</td>\n",
       "      <td>0.320927</td>\n",
       "      <td>NaN</td>\n",
       "      <td>No</td>\n",
       "      <td>84936.827810</td>\n",
       "      <td>1.842421e+08</td>\n",
       "      <td>1146.045208</td>\n",
       "    </tr>\n",
       "    <tr>\n",
       "      <th>3</th>\n",
       "      <td>14302</td>\n",
       "      <td>14302</td>\n",
       "      <td>Wildfire</td>\n",
       "      <td>1963</td>\n",
       "      <td>1</td>\n",
       "      <td>1 (1), 3 (3), 5 (1)</td>\n",
       "      <td>10395.010334</td>\n",
       "      <td>4206.711433</td>\n",
       "      <td>Comb_National_NIFC_Interagency_Fire_Perimeter_...</td>\n",
       "      <td>Wildfire (2), Likely Wildfire (3)</td>\n",
       "      <td>...</td>\n",
       "      <td>Wildfire mapping prior to 1984 was inconsisten...</td>\n",
       "      <td>Prescribed fire data in this dataset represent...</td>\n",
       "      <td>None</td>\n",
       "      <td>None</td>\n",
       "      <td>0.428936</td>\n",
       "      <td>NaN</td>\n",
       "      <td>No</td>\n",
       "      <td>35105.903602</td>\n",
       "      <td>4.206711e+07</td>\n",
       "      <td>1069.436102</td>\n",
       "    </tr>\n",
       "    <tr>\n",
       "      <th>4</th>\n",
       "      <td>14303</td>\n",
       "      <td>14303</td>\n",
       "      <td>Wildfire</td>\n",
       "      <td>1963</td>\n",
       "      <td>1</td>\n",
       "      <td>1 (1), 3 (3)</td>\n",
       "      <td>9983.605738</td>\n",
       "      <td>4040.221900</td>\n",
       "      <td>Comb_National_NIFC_Interagency_Fire_Perimeter_...</td>\n",
       "      <td>Wildfire (1), Likely Wildfire (3)</td>\n",
       "      <td>...</td>\n",
       "      <td>Wildfire mapping prior to 1984 was inconsisten...</td>\n",
       "      <td>Prescribed fire data in this dataset represent...</td>\n",
       "      <td>None</td>\n",
       "      <td>None</td>\n",
       "      <td>0.703178</td>\n",
       "      <td>NaN</td>\n",
       "      <td>No</td>\n",
       "      <td>26870.456126</td>\n",
       "      <td>4.040222e+07</td>\n",
       "      <td>1135.321519</td>\n",
       "    </tr>\n",
       "  </tbody>\n",
       "</table>\n",
       "<p>5 rows × 31 columns</p>\n",
       "</div>"
      ],
      "text/plain": [
       "   OBJECTID  USGS_Assigned_ID Assigned_Fire_Type  Fire_Year  \\\n",
       "0     14299             14299           Wildfire       1963   \n",
       "1     14300             14300           Wildfire       1963   \n",
       "2     14301             14301           Wildfire       1963   \n",
       "3     14302             14302           Wildfire       1963   \n",
       "4     14303             14303           Wildfire       1963   \n",
       "\n",
       "   Fire_Polygon_Tier  Fire_Attribute_Tiers     GIS_Acres  GIS_Hectares  \\\n",
       "0                  1          1 (1), 3 (3)  40992.458271  16589.059302   \n",
       "1                  1          1 (1), 3 (3)  25757.090203  10423.524591   \n",
       "2                  1  1 (5), 3 (15), 5 (1)  45527.210986  18424.208617   \n",
       "3                  1   1 (1), 3 (3), 5 (1)  10395.010334   4206.711433   \n",
       "4                  1          1 (1), 3 (3)   9983.605738   4040.221900   \n",
       "\n",
       "                                     Source_Datasets  \\\n",
       "0  Comb_National_NIFC_Interagency_Fire_Perimeter_...   \n",
       "1  Comb_National_NIFC_Interagency_Fire_Perimeter_...   \n",
       "2  Comb_National_NIFC_Interagency_Fire_Perimeter_...   \n",
       "3  Comb_National_NIFC_Interagency_Fire_Perimeter_...   \n",
       "4  Comb_National_NIFC_Interagency_Fire_Perimeter_...   \n",
       "\n",
       "                    Listed_Fire_Types  ...  \\\n",
       "0   Wildfire (1), Likely Wildfire (3)  ...   \n",
       "1   Wildfire (2), Likely Wildfire (2)  ...   \n",
       "2  Wildfire (6), Likely Wildfire (15)  ...   \n",
       "3   Wildfire (2), Likely Wildfire (3)  ...   \n",
       "4   Wildfire (1), Likely Wildfire (3)  ...   \n",
       "\n",
       "                                     Wildfire_Notice  \\\n",
       "0  Wildfire mapping prior to 1984 was inconsisten...   \n",
       "1  Wildfire mapping prior to 1984 was inconsisten...   \n",
       "2  Wildfire mapping prior to 1984 was inconsisten...   \n",
       "3  Wildfire mapping prior to 1984 was inconsisten...   \n",
       "4  Wildfire mapping prior to 1984 was inconsisten...   \n",
       "\n",
       "                              Prescribed_Burn_Notice Wildfire_and_Rx_Flag  \\\n",
       "0  Prescribed fire data in this dataset represent...                 None   \n",
       "1  Prescribed fire data in this dataset represent...                 None   \n",
       "2  Prescribed fire data in this dataset represent...                 None   \n",
       "3  Prescribed fire data in this dataset represent...                 None   \n",
       "4  Prescribed fire data in this dataset represent...                 None   \n",
       "\n",
       "  Overlap_Within_1_or_2_Flag Circleness_Scale Circle_Flag  \\\n",
       "0                       None         0.385355         NaN   \n",
       "1                       None         0.364815         NaN   \n",
       "2                       None         0.320927         NaN   \n",
       "3                       None         0.428936         NaN   \n",
       "4                       None         0.703178         NaN   \n",
       "\n",
       "  Exclude_From_Summary_Rasters  Shape_Length    Shape_Area     Distance  \n",
       "0                           No  73550.428118  1.658906e+08  1146.719300  \n",
       "1                           No  59920.576713  1.042352e+08  1177.527298  \n",
       "2                           No  84936.827810  1.842421e+08  1146.045208  \n",
       "3                           No  35105.903602  4.206711e+07  1069.436102  \n",
       "4                           No  26870.456126  4.040222e+07  1135.321519  \n",
       "\n",
       "[5 rows x 31 columns]"
      ]
     },
     "execution_count": 17,
     "metadata": {},
     "output_type": "execute_result"
    }
   ],
   "source": [
    "df.head()"
   ]
  },
  {
   "cell_type": "code",
   "execution_count": 18,
   "metadata": {},
   "outputs": [
    {
     "data": {
      "text/plain": [
       "Index(['OBJECTID', 'USGS_Assigned_ID', 'Assigned_Fire_Type', 'Fire_Year',\n",
       "       'Fire_Polygon_Tier', 'Fire_Attribute_Tiers', 'GIS_Acres',\n",
       "       'GIS_Hectares', 'Source_Datasets', 'Listed_Fire_Types',\n",
       "       'Listed_Fire_Names', 'Listed_Fire_Codes', 'Listed_Fire_IDs',\n",
       "       'Listed_Fire_IRWIN_IDs', 'Listed_Fire_Dates', 'Listed_Fire_Causes',\n",
       "       'Listed_Fire_Cause_Class', 'Listed_Rx_Reported_Acres',\n",
       "       'Listed_Map_Digitize_Methods', 'Listed_Notes', 'Processing_Notes',\n",
       "       'Wildfire_Notice', 'Prescribed_Burn_Notice', 'Wildfire_and_Rx_Flag',\n",
       "       'Overlap_Within_1_or_2_Flag', 'Circleness_Scale', 'Circle_Flag',\n",
       "       'Exclude_From_Summary_Rasters', 'Shape_Length', 'Shape_Area',\n",
       "       'Distance'],\n",
       "      dtype='object')"
      ]
     },
     "execution_count": 18,
     "metadata": {},
     "output_type": "execute_result"
    }
   ],
   "source": [
    "df.columns"
   ]
  }
 ],
 "metadata": {
  "kernelspec": {
   "display_name": "Python 3 (ipykernel)",
   "language": "python",
   "name": "python3"
  },
  "language_info": {
   "codemirror_mode": {
    "name": "ipython",
    "version": 3
   },
   "file_extension": ".py",
   "mimetype": "text/x-python",
   "name": "python",
   "nbconvert_exporter": "python",
   "pygments_lexer": "ipython3",
   "version": "3.7.16"
  }
 },
 "nbformat": 4,
 "nbformat_minor": 4
}
