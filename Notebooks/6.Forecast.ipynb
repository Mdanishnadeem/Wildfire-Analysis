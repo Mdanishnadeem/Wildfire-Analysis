{
 "cells": [
  {
   "cell_type": "markdown",
   "id": "a7307403",
   "metadata": {},
   "source": [
    "# Forecasts"
   ]
  },
  {
   "cell_type": "markdown",
   "id": "cbf6e1e4",
   "metadata": {},
   "source": [
    "The main goal in this notebook is to generate an estimate for the future 25 years of wildfires. For this I have used ARIMA from statsmodel to do the forecasting. The target variable is Score which we have generated and this is the only variable that will be used. "
   ]
  },
  {
   "cell_type": "code",
   "execution_count": 1,
   "id": "90748783",
   "metadata": {},
   "outputs": [],
   "source": [
    "import pandas as pd \n",
    "import numpy as np \n",
    "import matplotlib.pyplot as plt \n",
    "from statsmodels.tsa.arima.model import ARIMA"
   ]
  },
  {
   "cell_type": "code",
   "execution_count": 3,
   "id": "f753b79f",
   "metadata": {},
   "outputs": [],
   "source": [
    "combined_df = pd.read_csv('/Users/apple/Desktop/DATA_512/Wildfire-Analysis/data/aqi_score_combined.csv')"
   ]
  },
  {
   "cell_type": "code",
   "execution_count": 4,
   "id": "a115fa51",
   "metadata": {},
   "outputs": [
    {
     "data": {
      "text/html": [
       "<div>\n",
       "<style scoped>\n",
       "    .dataframe tbody tr th:only-of-type {\n",
       "        vertical-align: middle;\n",
       "    }\n",
       "\n",
       "    .dataframe tbody tr th {\n",
       "        vertical-align: top;\n",
       "    }\n",
       "\n",
       "    .dataframe thead th {\n",
       "        text-align: right;\n",
       "    }\n",
       "</style>\n",
       "<table border=\"1\" class=\"dataframe\">\n",
       "  <thead>\n",
       "    <tr style=\"text-align: right;\">\n",
       "      <th></th>\n",
       "      <th>Unnamed: 0</th>\n",
       "      <th>Year</th>\n",
       "      <th>AQI</th>\n",
       "      <th>Score</th>\n",
       "    </tr>\n",
       "  </thead>\n",
       "  <tbody>\n",
       "    <tr>\n",
       "      <th>35</th>\n",
       "      <td>26</td>\n",
       "      <td>2016</td>\n",
       "      <td>28.046326</td>\n",
       "      <td>4.674749</td>\n",
       "    </tr>\n",
       "    <tr>\n",
       "      <th>36</th>\n",
       "      <td>27</td>\n",
       "      <td>2017</td>\n",
       "      <td>27.271429</td>\n",
       "      <td>6.361451</td>\n",
       "    </tr>\n",
       "    <tr>\n",
       "      <th>37</th>\n",
       "      <td>28</td>\n",
       "      <td>2018</td>\n",
       "      <td>32.929434</td>\n",
       "      <td>5.565526</td>\n",
       "    </tr>\n",
       "    <tr>\n",
       "      <th>38</th>\n",
       "      <td>29</td>\n",
       "      <td>2019</td>\n",
       "      <td>31.313559</td>\n",
       "      <td>2.029475</td>\n",
       "    </tr>\n",
       "    <tr>\n",
       "      <th>39</th>\n",
       "      <td>30</td>\n",
       "      <td>2020</td>\n",
       "      <td>29.459538</td>\n",
       "      <td>3.362018</td>\n",
       "    </tr>\n",
       "  </tbody>\n",
       "</table>\n",
       "</div>"
      ],
      "text/plain": [
       "    Unnamed: 0  Year        AQI     Score\n",
       "35          26  2016  28.046326  4.674749\n",
       "36          27  2017  27.271429  6.361451\n",
       "37          28  2018  32.929434  5.565526\n",
       "38          29  2019  31.313559  2.029475\n",
       "39          30  2020  29.459538  3.362018"
      ]
     },
     "execution_count": 4,
     "metadata": {},
     "output_type": "execute_result"
    }
   ],
   "source": [
    "combined_df.tail()"
   ]
  },
  {
   "cell_type": "markdown",
   "id": "8ae0e985",
   "metadata": {},
   "source": [
    "I have set the value of p as 20. P is basically the previous years trends used to make a prediction for future. For d i have selected 1. d is basically the moving average. more information on it can be found on the following link: https://www.statsmodels.org/dev/generated/statsmodels.tsa.arima.model.ARIMA.html"
   ]
  },
  {
   "cell_type": "code",
   "execution_count": 5,
   "id": "2236e4b3",
   "metadata": {},
   "outputs": [
    {
     "name": "stderr",
     "output_type": "stream",
     "text": [
      "/Users/apple/opt/anaconda3/lib/python3.9/site-packages/statsmodels/tsa/statespace/sarimax.py:966: UserWarning: Non-stationary starting autoregressive parameters found. Using zeros as starting parameters.\n",
      "  warn('Non-stationary starting autoregressive parameters'\n",
      "/Users/apple/opt/anaconda3/lib/python3.9/site-packages/statsmodels/base/model.py:604: ConvergenceWarning: Maximum Likelihood optimization failed to converge. Check mle_retvals\n",
      "  warnings.warn(\"Maximum Likelihood optimization failed to \"\n"
     ]
    }
   ],
   "source": [
    "\n",
    "# Determine the order (p, d, q) for the ARIMA model using analysis\n",
    "\n",
    "# Fit the ARIMA model\n",
    "arima_order = (20,1,0)  # Replace with your chosen values\n",
    "arima_model = ARIMA(combined_df['Score'], order=arima_order)\n",
    "arima_results = arima_model.fit()\n",
    "\n",
    "# Make predictions (e.g., forecasting the next 12 time points)\n",
    "forecast_period = 25  # Change this as needed\n",
    "forecasted_values = arima_results.forecast(steps=forecast_period)\n"
   ]
  },
  {
   "cell_type": "code",
   "execution_count": 6,
   "id": "fa91edfb",
   "metadata": {},
   "outputs": [
    {
     "data": {
      "text/plain": [
       "40    7.827502\n",
       "41    4.086919\n",
       "42    7.541861\n",
       "43    4.547139\n",
       "44    2.457313\n",
       "45    9.297946\n",
       "46    6.097816\n",
       "47    3.167518\n",
       "48    3.461795\n",
       "49    5.215364\n",
       "50    4.443486\n",
       "51    3.302716\n",
       "52    2.322469\n",
       "53    3.836339\n",
       "54    3.825244\n",
       "55    8.799119\n",
       "56    3.861214\n",
       "57    3.565451\n",
       "58    5.116769\n",
       "59    4.425062\n",
       "60    6.395672\n",
       "61    4.040434\n",
       "62    2.579300\n",
       "63    5.541824\n",
       "64    6.111187\n",
       "Name: predicted_mean, dtype: float64"
      ]
     },
     "execution_count": 6,
     "metadata": {},
     "output_type": "execute_result"
    }
   ],
   "source": [
    "forecasted_values"
   ]
  },
  {
   "cell_type": "markdown",
   "id": "82969532",
   "metadata": {},
   "source": [
    "I have converted the forecast output into a dataframe and added years to it. Since the last datapoint we had was for 2020. The years in prediction start from 2021 and till 2045. "
   ]
  },
  {
   "cell_type": "code",
   "execution_count": 7,
   "id": "703afaf8",
   "metadata": {},
   "outputs": [],
   "source": [
    "df_forecasted = pd.DataFrame(forecasted_values)"
   ]
  },
  {
   "cell_type": "code",
   "execution_count": 8,
   "id": "691e2bdc",
   "metadata": {},
   "outputs": [
    {
     "data": {
      "text/html": [
       "<div>\n",
       "<style scoped>\n",
       "    .dataframe tbody tr th:only-of-type {\n",
       "        vertical-align: middle;\n",
       "    }\n",
       "\n",
       "    .dataframe tbody tr th {\n",
       "        vertical-align: top;\n",
       "    }\n",
       "\n",
       "    .dataframe thead th {\n",
       "        text-align: right;\n",
       "    }\n",
       "</style>\n",
       "<table border=\"1\" class=\"dataframe\">\n",
       "  <thead>\n",
       "    <tr style=\"text-align: right;\">\n",
       "      <th></th>\n",
       "      <th>predicted_mean</th>\n",
       "      <th>Year</th>\n",
       "    </tr>\n",
       "  </thead>\n",
       "  <tbody>\n",
       "    <tr>\n",
       "      <th>40</th>\n",
       "      <td>7.827502</td>\n",
       "      <td>2021</td>\n",
       "    </tr>\n",
       "    <tr>\n",
       "      <th>41</th>\n",
       "      <td>4.086919</td>\n",
       "      <td>2022</td>\n",
       "    </tr>\n",
       "    <tr>\n",
       "      <th>42</th>\n",
       "      <td>7.541861</td>\n",
       "      <td>2023</td>\n",
       "    </tr>\n",
       "    <tr>\n",
       "      <th>43</th>\n",
       "      <td>4.547139</td>\n",
       "      <td>2024</td>\n",
       "    </tr>\n",
       "    <tr>\n",
       "      <th>44</th>\n",
       "      <td>2.457313</td>\n",
       "      <td>2025</td>\n",
       "    </tr>\n",
       "    <tr>\n",
       "      <th>45</th>\n",
       "      <td>9.297946</td>\n",
       "      <td>2026</td>\n",
       "    </tr>\n",
       "    <tr>\n",
       "      <th>46</th>\n",
       "      <td>6.097816</td>\n",
       "      <td>2027</td>\n",
       "    </tr>\n",
       "    <tr>\n",
       "      <th>47</th>\n",
       "      <td>3.167518</td>\n",
       "      <td>2028</td>\n",
       "    </tr>\n",
       "    <tr>\n",
       "      <th>48</th>\n",
       "      <td>3.461795</td>\n",
       "      <td>2029</td>\n",
       "    </tr>\n",
       "    <tr>\n",
       "      <th>49</th>\n",
       "      <td>5.215364</td>\n",
       "      <td>2030</td>\n",
       "    </tr>\n",
       "    <tr>\n",
       "      <th>50</th>\n",
       "      <td>4.443486</td>\n",
       "      <td>2031</td>\n",
       "    </tr>\n",
       "    <tr>\n",
       "      <th>51</th>\n",
       "      <td>3.302716</td>\n",
       "      <td>2032</td>\n",
       "    </tr>\n",
       "    <tr>\n",
       "      <th>52</th>\n",
       "      <td>2.322469</td>\n",
       "      <td>2033</td>\n",
       "    </tr>\n",
       "    <tr>\n",
       "      <th>53</th>\n",
       "      <td>3.836339</td>\n",
       "      <td>2034</td>\n",
       "    </tr>\n",
       "    <tr>\n",
       "      <th>54</th>\n",
       "      <td>3.825244</td>\n",
       "      <td>2035</td>\n",
       "    </tr>\n",
       "    <tr>\n",
       "      <th>55</th>\n",
       "      <td>8.799119</td>\n",
       "      <td>2036</td>\n",
       "    </tr>\n",
       "    <tr>\n",
       "      <th>56</th>\n",
       "      <td>3.861214</td>\n",
       "      <td>2037</td>\n",
       "    </tr>\n",
       "    <tr>\n",
       "      <th>57</th>\n",
       "      <td>3.565451</td>\n",
       "      <td>2038</td>\n",
       "    </tr>\n",
       "    <tr>\n",
       "      <th>58</th>\n",
       "      <td>5.116769</td>\n",
       "      <td>2039</td>\n",
       "    </tr>\n",
       "    <tr>\n",
       "      <th>59</th>\n",
       "      <td>4.425062</td>\n",
       "      <td>2040</td>\n",
       "    </tr>\n",
       "    <tr>\n",
       "      <th>60</th>\n",
       "      <td>6.395672</td>\n",
       "      <td>2041</td>\n",
       "    </tr>\n",
       "    <tr>\n",
       "      <th>61</th>\n",
       "      <td>4.040434</td>\n",
       "      <td>2042</td>\n",
       "    </tr>\n",
       "    <tr>\n",
       "      <th>62</th>\n",
       "      <td>2.579300</td>\n",
       "      <td>2043</td>\n",
       "    </tr>\n",
       "    <tr>\n",
       "      <th>63</th>\n",
       "      <td>5.541824</td>\n",
       "      <td>2044</td>\n",
       "    </tr>\n",
       "    <tr>\n",
       "      <th>64</th>\n",
       "      <td>6.111187</td>\n",
       "      <td>2045</td>\n",
       "    </tr>\n",
       "  </tbody>\n",
       "</table>\n",
       "</div>"
      ],
      "text/plain": [
       "    predicted_mean  Year\n",
       "40        7.827502  2021\n",
       "41        4.086919  2022\n",
       "42        7.541861  2023\n",
       "43        4.547139  2024\n",
       "44        2.457313  2025\n",
       "45        9.297946  2026\n",
       "46        6.097816  2027\n",
       "47        3.167518  2028\n",
       "48        3.461795  2029\n",
       "49        5.215364  2030\n",
       "50        4.443486  2031\n",
       "51        3.302716  2032\n",
       "52        2.322469  2033\n",
       "53        3.836339  2034\n",
       "54        3.825244  2035\n",
       "55        8.799119  2036\n",
       "56        3.861214  2037\n",
       "57        3.565451  2038\n",
       "58        5.116769  2039\n",
       "59        4.425062  2040\n",
       "60        6.395672  2041\n",
       "61        4.040434  2042\n",
       "62        2.579300  2043\n",
       "63        5.541824  2044\n",
       "64        6.111187  2045"
      ]
     },
     "execution_count": 8,
     "metadata": {},
     "output_type": "execute_result"
    }
   ],
   "source": [
    "# Add a new column with a sequence of years\n",
    "df_forecasted['Year'] = range(combined_df['Year'].max() + 1, combined_df['Year'].max() + 1 + len(df_forecasted))\n",
    "\n",
    "# Display the modified DataFrame\n",
    "df_forecasted"
   ]
  },
  {
   "cell_type": "markdown",
   "id": "e863ce91",
   "metadata": {},
   "source": [
    "I have made a visualisation of the forecast for the next 25. The forecasted part can be seen colored red and the calculated score part can be seen in blue. I can see over here that even though with this limited data the ARIMA model is capturing some variation in the previous trends. "
   ]
  },
  {
   "cell_type": "code",
   "execution_count": 9,
   "id": "4cee57b5",
   "metadata": {},
   "outputs": [],
   "source": [
    "# Combine data frames based on the 'year' column\n",
    "result_df = pd.concat([combined_df, df_forecasted])\n",
    "#Create a new column to get the combined values of our calculated scores and predicted scores\n",
    "result_df['actual_forecasted_combined'] = result_df['predicted_mean']\n",
    "result_df['actual_forecasted_combined'].fillna(result_df['Score'], inplace = True)"
   ]
  },
  {
   "cell_type": "code",
   "execution_count": 10,
   "id": "e17841f1",
   "metadata": {},
   "outputs": [
    {
     "data": {
      "image/png": "[encoded data removed]",
      "text/plain": [
       "<Figure size 1000x600 with 1 Axes>"
      ]
     },
     "metadata": {},
     "output_type": "display_data"
    }
   ],
   "source": [
    "window = 3  # Adjust the window size as needed\n",
    "result_df['moving_average'] = result_df['actual_forecasted_combined'].rolling(window=window).mean()\n",
    "\n",
    "# Create the time series plot with different colors after 2021\n",
    "plt.figure(figsize=(10, 6))\n",
    "\n",
    "# Plot the entire line with a single color\n",
    "plt.plot(result_df['Year'], result_df['actual_forecasted_combined'], marker='o', color='blue', label='Predictions')\n",
    "\n",
    "# Highlight data points after 2021 with a different color\n",
    "after_2021 = result_df[result_df['Year'] > 2020]\n",
    "plt.plot(after_2021['Year'], after_2021['actual_forecasted_combined'], marker='o', color='red', label='Predictions after 2020')\n",
    "\n",
    "# Plot the moving average line in a different color\n",
    "#plt.plot(result_df['Year'], result_df['moving_average'], color='green', label=f'{window}-Year Moving Average')\n",
    "\n",
    "plt.xlabel('Year')\n",
    "plt.ylabel('Predictions')\n",
    "plt.title('Time Series Plot with Different Colors after 2021')\n",
    "plt.legend()\n",
    "\n",
    "plt.show()"
   ]
  }
 ],
 "metadata": {
  "kernelspec": {
   "display_name": "Python 3 (ipykernel)",
   "language": "python",
   "name": "python3"
  },
  "language_info": {
   "codemirror_mode": {
    "name": "ipython",
    "version": 3
   },
   "file_extension": ".py",
   "mimetype": "text/x-python",
   "name": "python",
   "nbconvert_exporter": "python",
   "pygments_lexer": "ipython3",
   "version": "3.7.16"
  }
 },
 "nbformat": 4,
 "nbformat_minor": 5
}
