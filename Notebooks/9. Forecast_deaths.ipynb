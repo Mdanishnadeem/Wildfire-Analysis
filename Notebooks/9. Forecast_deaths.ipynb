{
 "cells": [
  {
   "cell_type": "markdown",
   "id": "a7307403",
   "metadata": {},
   "source": [
    "# Forecasts"
   ]
  },
  {
   "cell_type": "markdown",
   "id": "cbf6e1e4",
   "metadata": {},
   "source": [
    "The main goal in this notebook is to generate an estimate for the future 15 years of deaths due to Chronic Respiratory Diseases. For this I have used ARIMA from statsmodel to do the forecasting. The target variable is deaths due to Chronic Respiratory Diseases which we have generated and this is the only variable that will be used. "
   ]
  },
  {
   "cell_type": "code",
   "execution_count": 1,
   "id": "90748783",
   "metadata": {},
   "outputs": [],
   "source": [
    "import pandas as pd \n",
    "import numpy as np \n",
    "import matplotlib.pyplot as plt \n",
    "from statsmodels.tsa.arima.model import ARIMA"
   ]
  },
  {
   "cell_type": "code",
   "execution_count": 2,
   "id": "f753b79f",
   "metadata": {},
   "outputs": [],
   "source": [
    "combined_df = pd.read_csv('/Users/apple/Desktop/DATA_512/Wildfire-Analysis/data/deaths_aqi_score_combined.csv')"
   ]
  },
  {
   "cell_type": "code",
   "execution_count": 21,
   "id": "a115fa51",
   "metadata": {},
   "outputs": [
    {
     "data": {
      "text/html": [
       "<div>\n",
       "<style scoped>\n",
       "    .dataframe tbody tr th:only-of-type {\n",
       "        vertical-align: middle;\n",
       "    }\n",
       "\n",
       "    .dataframe tbody tr th {\n",
       "        vertical-align: top;\n",
       "    }\n",
       "\n",
       "    .dataframe thead th {\n",
       "        text-align: right;\n",
       "    }\n",
       "</style>\n",
       "<table border=\"1\" class=\"dataframe\">\n",
       "  <thead>\n",
       "    <tr style=\"text-align: right;\">\n",
       "      <th></th>\n",
       "      <th>Unnamed: 0</th>\n",
       "      <th>Year</th>\n",
       "      <th>AQI</th>\n",
       "      <th>Score</th>\n",
       "      <th>CRD_deaths_females</th>\n",
       "      <th>COPD_deaths_females</th>\n",
       "      <th>CRD_deaths_males</th>\n",
       "      <th>COPD_deaths_males</th>\n",
       "      <th>CRD_deaths_both</th>\n",
       "      <th>COPD_deaths_both</th>\n",
       "    </tr>\n",
       "  </thead>\n",
       "  <tbody>\n",
       "    <tr>\n",
       "      <th>0</th>\n",
       "      <td>0</td>\n",
       "      <td>1980</td>\n",
       "      <td>33.051678</td>\n",
       "      <td>1.602783</td>\n",
       "      <td>35.462704</td>\n",
       "      <td>29.645119</td>\n",
       "      <td>89.602736</td>\n",
       "      <td>80.493628</td>\n",
       "      <td>56.330614</td>\n",
       "      <td>49.224189</td>\n",
       "    </tr>\n",
       "    <tr>\n",
       "      <th>1</th>\n",
       "      <td>1</td>\n",
       "      <td>1981</td>\n",
       "      <td>23.946651</td>\n",
       "      <td>2.447749</td>\n",
       "      <td>36.368059</td>\n",
       "      <td>30.526829</td>\n",
       "      <td>91.033545</td>\n",
       "      <td>82.089050</td>\n",
       "      <td>57.407706</td>\n",
       "      <td>50.359229</td>\n",
       "    </tr>\n",
       "    <tr>\n",
       "      <th>2</th>\n",
       "      <td>2</td>\n",
       "      <td>1982</td>\n",
       "      <td>26.930119</td>\n",
       "      <td>1.394885</td>\n",
       "      <td>36.615875</td>\n",
       "      <td>30.784271</td>\n",
       "      <td>90.721762</td>\n",
       "      <td>81.886210</td>\n",
       "      <td>57.426936</td>\n",
       "      <td>50.427287</td>\n",
       "    </tr>\n",
       "    <tr>\n",
       "      <th>3</th>\n",
       "      <td>3</td>\n",
       "      <td>1983</td>\n",
       "      <td>27.655958</td>\n",
       "      <td>2.442226</td>\n",
       "      <td>38.314040</td>\n",
       "      <td>32.354084</td>\n",
       "      <td>92.206585</td>\n",
       "      <td>83.465366</td>\n",
       "      <td>59.044220</td>\n",
       "      <td>51.999274</td>\n",
       "    </tr>\n",
       "    <tr>\n",
       "      <th>4</th>\n",
       "      <td>4</td>\n",
       "      <td>1984</td>\n",
       "      <td>27.204708</td>\n",
       "      <td>2.457773</td>\n",
       "      <td>40.170289</td>\n",
       "      <td>34.001425</td>\n",
       "      <td>93.364609</td>\n",
       "      <td>84.569803</td>\n",
       "      <td>60.577061</td>\n",
       "      <td>53.382073</td>\n",
       "    </tr>\n",
       "  </tbody>\n",
       "</table>\n",
       "</div>"
      ],
      "text/plain": [
       "   Unnamed: 0  Year        AQI     Score  CRD_deaths_females  \\\n",
       "0           0  1980  33.051678  1.602783           35.462704   \n",
       "1           1  1981  23.946651  2.447749           36.368059   \n",
       "2           2  1982  26.930119  1.394885           36.615875   \n",
       "3           3  1983  27.655958  2.442226           38.314040   \n",
       "4           4  1984  27.204708  2.457773           40.170289   \n",
       "\n",
       "   COPD_deaths_females  CRD_deaths_males  COPD_deaths_males  CRD_deaths_both  \\\n",
       "0            29.645119         89.602736          80.493628        56.330614   \n",
       "1            30.526829         91.033545          82.089050        57.407706   \n",
       "2            30.784271         90.721762          81.886210        57.426936   \n",
       "3            32.354084         92.206585          83.465366        59.044220   \n",
       "4            34.001425         93.364609          84.569803        60.577061   \n",
       "\n",
       "   COPD_deaths_both  \n",
       "0         49.224189  \n",
       "1         50.359229  \n",
       "2         50.427287  \n",
       "3         51.999274  \n",
       "4         53.382073  "
      ]
     },
     "execution_count": 21,
     "metadata": {},
     "output_type": "execute_result"
    }
   ],
   "source": [
    "combined_df.head()"
   ]
  },
  {
   "cell_type": "markdown",
   "id": "8ae0e985",
   "metadata": {},
   "source": [
    "I have set the value of p as 12. P is basically the previous years trends used to make a prediction for future. For d i have selected 1. d is basically the moving average. more information on it can be found on the following link: https://www.statsmodels.org/dev/generated/statsmodels.tsa.arima.model.ARIMA.html"
   ]
  },
  {
   "cell_type": "code",
   "execution_count": 24,
   "id": "2236e4b3",
   "metadata": {},
   "outputs": [],
   "source": [
    "\n",
    "# Determine the order (p, d, q) for the ARIMA model using analysis\n",
    "\n",
    "# Fit the ARIMA model\n",
    "arima_order = (12,1,0)  # Replace with your chosen values\n",
    "arima_model = ARIMA(combined_df['CRD_deaths_both'], order=arima_order)\n",
    "arima_results = arima_model.fit()\n",
    "\n",
    "# Make predictions (e.g., forecasting the next 10 time points)\n",
    "forecast_period = 15  # Change this as needed\n",
    "forecasted_values = arima_results.forecast(steps=forecast_period)\n"
   ]
  },
  {
   "cell_type": "code",
   "execution_count": 25,
   "id": "fa91edfb",
   "metadata": {},
   "outputs": [
    {
     "data": {
      "text/plain": [
       "30    106.702843\n",
       "31    108.363770\n",
       "32    110.233505\n",
       "33    111.927380\n",
       "34    111.041846\n",
       "35    112.627857\n",
       "36    112.538063\n",
       "37    112.576726\n",
       "38    114.314844\n",
       "39    114.327539\n",
       "40    114.505387\n",
       "41    115.597684\n",
       "42    115.549033\n",
       "43    115.332841\n",
       "44    116.374449\n",
       "Name: predicted_mean, dtype: float64"
      ]
     },
     "execution_count": 25,
     "metadata": {},
     "output_type": "execute_result"
    }
   ],
   "source": [
    "forecasted_values"
   ]
  },
  {
   "cell_type": "markdown",
   "id": "82969532",
   "metadata": {},
   "source": [
    "I have converted the forecast output into a dataframe and added years to it. Since the last datapoint we had was for 2014. The years in prediction start from 2015 and till 2030. "
   ]
  },
  {
   "cell_type": "code",
   "execution_count": 26,
   "id": "703afaf8",
   "metadata": {},
   "outputs": [],
   "source": [
    "df_forecasted = pd.DataFrame(forecasted_values)"
   ]
  },
  {
   "cell_type": "code",
   "execution_count": 27,
   "id": "691e2bdc",
   "metadata": {},
   "outputs": [
    {
     "data": {
      "text/html": [
       "<div>\n",
       "<style scoped>\n",
       "    .dataframe tbody tr th:only-of-type {\n",
       "        vertical-align: middle;\n",
       "    }\n",
       "\n",
       "    .dataframe tbody tr th {\n",
       "        vertical-align: top;\n",
       "    }\n",
       "\n",
       "    .dataframe thead th {\n",
       "        text-align: right;\n",
       "    }\n",
       "</style>\n",
       "<table border=\"1\" class=\"dataframe\">\n",
       "  <thead>\n",
       "    <tr style=\"text-align: right;\">\n",
       "      <th></th>\n",
       "      <th>predicted_mean</th>\n",
       "      <th>Year</th>\n",
       "    </tr>\n",
       "  </thead>\n",
       "  <tbody>\n",
       "    <tr>\n",
       "      <th>30</th>\n",
       "      <td>106.702843</td>\n",
       "      <td>2015</td>\n",
       "    </tr>\n",
       "    <tr>\n",
       "      <th>31</th>\n",
       "      <td>108.363770</td>\n",
       "      <td>2016</td>\n",
       "    </tr>\n",
       "    <tr>\n",
       "      <th>32</th>\n",
       "      <td>110.233505</td>\n",
       "      <td>2017</td>\n",
       "    </tr>\n",
       "    <tr>\n",
       "      <th>33</th>\n",
       "      <td>111.927380</td>\n",
       "      <td>2018</td>\n",
       "    </tr>\n",
       "    <tr>\n",
       "      <th>34</th>\n",
       "      <td>111.041846</td>\n",
       "      <td>2019</td>\n",
       "    </tr>\n",
       "    <tr>\n",
       "      <th>35</th>\n",
       "      <td>112.627857</td>\n",
       "      <td>2020</td>\n",
       "    </tr>\n",
       "    <tr>\n",
       "      <th>36</th>\n",
       "      <td>112.538063</td>\n",
       "      <td>2021</td>\n",
       "    </tr>\n",
       "    <tr>\n",
       "      <th>37</th>\n",
       "      <td>112.576726</td>\n",
       "      <td>2022</td>\n",
       "    </tr>\n",
       "    <tr>\n",
       "      <th>38</th>\n",
       "      <td>114.314844</td>\n",
       "      <td>2023</td>\n",
       "    </tr>\n",
       "    <tr>\n",
       "      <th>39</th>\n",
       "      <td>114.327539</td>\n",
       "      <td>2024</td>\n",
       "    </tr>\n",
       "    <tr>\n",
       "      <th>40</th>\n",
       "      <td>114.505387</td>\n",
       "      <td>2025</td>\n",
       "    </tr>\n",
       "    <tr>\n",
       "      <th>41</th>\n",
       "      <td>115.597684</td>\n",
       "      <td>2026</td>\n",
       "    </tr>\n",
       "    <tr>\n",
       "      <th>42</th>\n",
       "      <td>115.549033</td>\n",
       "      <td>2027</td>\n",
       "    </tr>\n",
       "    <tr>\n",
       "      <th>43</th>\n",
       "      <td>115.332841</td>\n",
       "      <td>2028</td>\n",
       "    </tr>\n",
       "    <tr>\n",
       "      <th>44</th>\n",
       "      <td>116.374449</td>\n",
       "      <td>2029</td>\n",
       "    </tr>\n",
       "  </tbody>\n",
       "</table>\n",
       "</div>"
      ],
      "text/plain": [
       "    predicted_mean  Year\n",
       "30      106.702843  2015\n",
       "31      108.363770  2016\n",
       "32      110.233505  2017\n",
       "33      111.927380  2018\n",
       "34      111.041846  2019\n",
       "35      112.627857  2020\n",
       "36      112.538063  2021\n",
       "37      112.576726  2022\n",
       "38      114.314844  2023\n",
       "39      114.327539  2024\n",
       "40      114.505387  2025\n",
       "41      115.597684  2026\n",
       "42      115.549033  2027\n",
       "43      115.332841  2028\n",
       "44      116.374449  2029"
      ]
     },
     "execution_count": 27,
     "metadata": {},
     "output_type": "execute_result"
    }
   ],
   "source": [
    "# Add a new column with a sequence of years\n",
    "df_forecasted['Year'] = range(combined_df['Year'].max() + 1, combined_df['Year'].max() + 1 + len(df_forecasted))\n",
    "\n",
    "# Display the modified DataFrame\n",
    "df_forecasted"
   ]
  },
  {
   "cell_type": "markdown",
   "id": "e863ce91",
   "metadata": {},
   "source": [
    "I have made a visualisation of the forecast for the next 15 years. The forecasted part can be seen colored red and the calculated score part can be seen in blue. I can see over here that even though with this limited data the ARIMA model is capturing some variation in the previous trends. "
   ]
  },
  {
   "cell_type": "code",
   "execution_count": 28,
   "id": "4cee57b5",
   "metadata": {},
   "outputs": [],
   "source": [
    "# Combine data frames based on the 'year' column\n",
    "result_df = pd.concat([combined_df, df_forecasted])\n",
    "#Create a new column to get the combined values of our available CRD deaths and predicted CRD deaths\n",
    "result_df['actual_forecasted_combined'] = result_df['predicted_mean']\n",
    "result_df['actual_forecasted_combined'].fillna(result_df['CRD_deaths_both'], inplace = True)"
   ]
  },
  {
   "cell_type": "code",
   "execution_count": 29,
   "id": "e17841f1",
   "metadata": {
    "scrolled": true
   },
   "outputs": [
    {
     "data": {
      "image/png": "[encoded data removed]",
      "text/plain": [
       "<Figure size 1000x600 with 1 Axes>"
      ]
     },
     "metadata": {},
     "output_type": "display_data"
    }
   ],
   "source": [
    "window = 3  # Adjust the window size as needed\n",
    "result_df['moving_average'] = result_df['actual_forecasted_combined'].rolling(window=window).mean()\n",
    "\n",
    "# Create the time series plot with different colors after 2014\n",
    "plt.figure(figsize=(10, 6))\n",
    "\n",
    "# Plot the entire line with a single color\n",
    "plt.plot(result_df['Year'], result_df['actual_forecasted_combined'], marker='o', color='blue', label='Predictions')\n",
    "\n",
    "# Highlight data points after 2014 with a different color\n",
    "after_2021 = result_df[result_df['Year'] > 2014]\n",
    "plt.plot(after_2021['Year'], after_2021['actual_forecasted_combined'], marker='o', color='red', label='Predictions after 2014')\n",
    "\n",
    "# Plot the moving average line in a different color\n",
    "#plt.plot(result_df['Year'], result_df['moving_average'], color='green', label=f'{window}-Year Moving Average')\n",
    "\n",
    "plt.xlabel('Year')\n",
    "plt.ylabel('Predictions')\n",
    "plt.title('Time Series Plot for deaths due to CRD after 2014')\n",
    "plt.legend()\n",
    "\n",
    "plt.show()"
   ]
  }
 ],
 "metadata": {
  "kernelspec": {
   "display_name": "Python 3 (ipykernel)",
   "language": "python",
   "name": "python3"
  },
  "language_info": {
   "codemirror_mode": {
    "name": "ipython",
    "version": 3
   },
   "file_extension": ".py",
   "mimetype": "text/x-python",
   "name": "python",
   "nbconvert_exporter": "python",
   "pygments_lexer": "ipython3",
   "version": "3.7.16"
  }
 },
 "nbformat": 4,
 "nbformat_minor": 5
}
